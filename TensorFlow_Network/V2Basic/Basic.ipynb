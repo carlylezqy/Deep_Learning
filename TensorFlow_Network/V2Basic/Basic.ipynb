{
 "cells": [
  {
   "cell_type": "code",
   "execution_count": 8,
   "source": [
    "import tensorflow as tf\n",
    "print(tf.__version__)\n",
    "print(len(tf.config.list_physical_devices('GPU')) == 0)"
   ],
   "outputs": [
    {
     "output_type": "stream",
     "name": "stdout",
     "text": [
      "2.4.1\n",
      "True\n"
     ]
    }
   ],
   "metadata": {}
  },
  {
   "cell_type": "code",
   "execution_count": 15,
   "source": [
    "mammal = tf.Variable(\"Elephant\", tf.string)\n",
    "print(mammal)\n",
    "tf.print(tf.rank(mammal))\n",
    "tf.print(tf.shape(mammal))"
   ],
   "outputs": [
    {
     "output_type": "stream",
     "name": "stdout",
     "text": [
      "<tf.Variable 'Variable:0' shape=() dtype=string, numpy=b'Elephant'>\n",
      "0\n",
      "[]\n"
     ]
    }
   ],
   "metadata": {}
  },
  {
   "cell_type": "code",
   "execution_count": 26,
   "source": [
    "tensor = tf.Variable([[1., 2., 3., 4.], [1., 2., 3., 4.], [1., 2., 3., 4.], [1., 2., 3., 4.]])\n",
    "print(tensor)\n",
    "print(tensor.numpy())\n",
    "\n",
    "tf.print(tensor)"
   ],
   "outputs": [
    {
     "output_type": "stream",
     "name": "stdout",
     "text": [
      "<tf.Variable 'Variable:0' shape=(4, 4) dtype=float32, numpy=\n",
      "array([[1., 2., 3., 4.],\n",
      "       [1., 2., 3., 4.],\n",
      "       [1., 2., 3., 4.],\n",
      "       [1., 2., 3., 4.]], dtype=float32)>\n",
      "[[1. 2. 3. 4.]\n",
      " [1. 2. 3. 4.]\n",
      " [1. 2. 3. 4.]\n",
      " [1. 2. 3. 4.]]\n",
      "[[1 2 3 4]\n",
      " [1 2 3 4]\n",
      " [1 2 3 4]\n",
      " [1 2 3 4]]\n"
     ]
    }
   ],
   "metadata": {}
  },
  {
   "cell_type": "code",
   "execution_count": 31,
   "source": [
    "tensor = tf.Variable([[1., 2., 3., 4.], [1., 2., 3., 4.], [1., 2., 3., 4.], [1., 2., 3., 4.]])\n",
    "tf.print(tf.rank(tensor))\n",
    "tf.print(tf.shape(tensor))"
   ],
   "outputs": [
    {
     "output_type": "stream",
     "name": "stdout",
     "text": [
      "2\n",
      "[4 4]\n"
     ]
    }
   ],
   "metadata": {}
  },
  {
   "cell_type": "code",
   "execution_count": 33,
   "source": [
    "tensor = tf.constant([1,2,3], dtype=tf.int32) #常数\n",
    "tf.print(tf.rank(tensor))\n",
    "tf.print(tf.shape(tensor))"
   ],
   "outputs": [
    {
     "output_type": "stream",
     "name": "stdout",
     "text": [
      "1\n",
      "[3]\n"
     ]
    }
   ],
   "metadata": {}
  },
  {
   "cell_type": "code",
   "execution_count": 42,
   "source": [
    "a = tf.random.uniform((10, 10)) # (10, 10)\n",
    "tf.debugging.assert_equal(x=a.shape, y=(10, 10))\n",
    "#tf.debugging.assert_equal(x=a.shape, y=(5, 10)) #错误示范"
   ],
   "outputs": [],
   "metadata": {}
  },
  {
   "cell_type": "code",
   "execution_count": 43,
   "source": [
    "a = tf.constant([[1,2],[3,4]])\n",
    "b = tf.constant([[5,6],[7,8]])\n",
    "\n",
    "tf.print(tf.math.add(a,b))\n",
    "tf.print(tf.math.subtract(a,b))\n",
    "tf.print(tf.math.multiply(a,b))\n",
    "tf.print(tf.math.divide(a,b))"
   ],
   "outputs": [
    {
     "output_type": "stream",
     "name": "stdout",
     "text": [
      "[[6 8]\n",
      " [10 12]]\n",
      "[[-4 -4]\n",
      " [-4 -4]]\n",
      "[[5 12]\n",
      " [21 32]]\n",
      "[[0.2 0.33333333333333331]\n",
      " [0.42857142857142855 0.5]]\n"
     ]
    }
   ],
   "metadata": {}
  },
  {
   "cell_type": "code",
   "execution_count": 44,
   "source": [
    "x =tf.constant([1.8, 2.2], dtype=tf.float32)\n",
    "x1 = tf.dtypes.cast(x,tf.int32)\n",
    "print(x1.dtype)"
   ],
   "outputs": [
    {
     "output_type": "stream",
     "name": "stdout",
     "text": [
      "<dtype: 'int32'>\n"
     ]
    }
   ],
   "metadata": {}
  }
 ],
 "metadata": {
  "orig_nbformat": 4,
  "language_info": {
   "name": "python",
   "version": "3.8.5",
   "mimetype": "text/x-python",
   "codemirror_mode": {
    "name": "ipython",
    "version": 3
   },
   "pygments_lexer": "ipython3",
   "nbconvert_exporter": "python",
   "file_extension": ".py"
  },
  "kernelspec": {
   "name": "python3",
   "display_name": "Python 3.8.5 64-bit ('tensorflow': conda)"
  },
  "interpreter": {
   "hash": "da1f610aa45a19559334a3d75bd9f7f779eed9e987951440e2e8e0c4216a7c30"
  }
 },
 "nbformat": 4,
 "nbformat_minor": 2
}