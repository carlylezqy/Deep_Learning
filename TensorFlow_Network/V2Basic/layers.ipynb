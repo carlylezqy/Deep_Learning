{
 "cells": [
  {
   "cell_type": "code",
   "execution_count": 1,
   "source": [
    "import tensorflow as tf"
   ],
   "outputs": [],
   "metadata": {}
  },
  {
   "cell_type": "code",
   "execution_count": 5,
   "source": [
    "a = tf.random.uniform(shape=(10,100,50), minval=-0.5, maxval=0.5) #张量\n",
    "#get size (10, 100, 50)\n",
    "\n",
    "x = tf.keras.layers.LSTM(100)(a) # (10, 100)\n",
    "x = tf.keras.layers.Dense(10)(x) # (10, 10)\n",
    "x = tf.nn.softmax(x)\n",
    "\n",
    "print(x.shape)"
   ],
   "outputs": [
    {
     "output_type": "stream",
     "name": "stdout",
     "text": [
      "(10, 10)\n"
     ]
    }
   ],
   "metadata": {}
  },
  {
   "cell_type": "code",
   "execution_count": 6,
   "source": [
    "tf.keras.layers.Dense(64, activation=tf.nn.relu) #or activation='relu'\n",
    "tf.keras.layers.Dense(64, kernel_regularizer=tf.keras.regularizers.l1(0.01))\n",
    "tf.keras.layers.Dense(64, bias_regularizer=tf.keras.regularizers.l2(0.01))\n",
    "\n",
    "# 内核初始化为随机正交矩阵的线性层\n",
    "tf.keras.layers.Dense(64, kernel_initializer='orthogonal')\n",
    "\n",
    "# 偏差向量初始化为2.0的线性层\n",
    "tf.keras.layers.Dense(64, bias_initializer=tf.keras.initializers.Constant(2.0))"
   ],
   "outputs": [
    {
     "output_type": "execute_result",
     "data": {
      "text/plain": [
       "<tensorflow.python.keras.layers.core.Dense at 0x7f8b9a65a3a0>"
      ]
     },
     "metadata": {},
     "execution_count": 6
    }
   ],
   "metadata": {}
  }
 ],
 "metadata": {
  "orig_nbformat": 4,
  "language_info": {
   "name": "python",
   "version": "3.8.5",
   "mimetype": "text/x-python",
   "codemirror_mode": {
    "name": "ipython",
    "version": 3
   },
   "pygments_lexer": "ipython3",
   "nbconvert_exporter": "python",
   "file_extension": ".py"
  },
  "kernelspec": {
   "name": "python3",
   "display_name": "Python 3.8.5 64-bit ('tensorflow': conda)"
  },
  "interpreter": {
   "hash": "da1f610aa45a19559334a3d75bd9f7f779eed9e987951440e2e8e0c4216a7c30"
  }
 },
 "nbformat": 4,
 "nbformat_minor": 2
}