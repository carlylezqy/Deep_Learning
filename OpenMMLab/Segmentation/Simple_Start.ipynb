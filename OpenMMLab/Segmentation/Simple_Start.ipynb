{
 "cells": [
  {
   "cell_type": "code",
   "execution_count": 2,
   "metadata": {},
   "outputs": [],
   "source": [
    "import glob\n",
    "from PIL import Image\n",
    "\n",
    "image_list = glob.glob(\"/home/akiyo/nfs/zhang/dataset/DRIVE/training/images/*.tif\")\n",
    "annotation_list = glob.glob(\"/home/akiyo/nfs/zhang/dataset/DRIVE/training/1st_manual/*.gif\")\n",
    "\n",
    "for i in range(len(image_list)):\n",
    "    image_path = image_list[i]\n",
    "    annotation_path = annotation_list[i]\n",
    "\n",
    "    image = Image.open(image_path)\n",
    "    annotaion = Image.open(annotation_path)\n",
    "\n",
    "    image.save(image_path.replace(\"_training.tif\", \".png\"))\n",
    "    annotaion.save(annotation_path.replace(\".gif\", \".png\"))"
   ]
  }
 ],
 "metadata": {
  "kernelspec": {
   "display_name": "swint",
   "language": "python",
   "name": "python3"
  },
  "language_info": {
   "codemirror_mode": {
    "name": "ipython",
    "version": 3
   },
   "file_extension": ".py",
   "mimetype": "text/x-python",
   "name": "python",
   "nbconvert_exporter": "python",
   "pygments_lexer": "ipython3",
   "version": "3.8.15"
  },
  "orig_nbformat": 4,
  "vscode": {
   "interpreter": {
    "hash": "af1ef7c2422b98f0aa0eb8c8ba68e52bc5e98ee3d10707544ebeb5411de3d7d9"
   }
  }
 },
 "nbformat": 4,
 "nbformat_minor": 2
}
