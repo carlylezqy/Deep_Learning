{
 "cells": [
  {
   "cell_type": "code",
   "execution_count": 4,
   "metadata": {},
   "outputs": [
    {
     "ename": "TypeError",
     "evalue": "__init__() missing 1 required positional argument: 'model'",
     "output_type": "error",
     "traceback": [
      "\u001b[0;31m---------------------------------------------------------------------------\u001b[0m",
      "\u001b[0;31mTypeError\u001b[0m                                 Traceback (most recent call last)",
      "Cell \u001b[0;32mIn[4], line 11\u001b[0m\n\u001b[1;32m      2\u001b[0m \u001b[39mfrom\u001b[39;00m \u001b[39mmmcv\u001b[39;00m\u001b[39m.\u001b[39;00m\u001b[39mrunner\u001b[39;00m\u001b[39m.\u001b[39;00m\u001b[39mhooks\u001b[39;00m \u001b[39mimport\u001b[39;00m EvalHook\n\u001b[1;32m      4\u001b[0m log_config \u001b[39m=\u001b[39m { \n\u001b[1;32m      5\u001b[0m     \u001b[39m'\u001b[39m\u001b[39minterval\u001b[39m\u001b[39m'\u001b[39m: \u001b[39m100\u001b[39m, \n\u001b[1;32m      6\u001b[0m     \u001b[39m'\u001b[39m\u001b[39mhooks\u001b[39m\u001b[39m'\u001b[39m: [{ \n\u001b[1;32m      7\u001b[0m         \u001b[39m'\u001b[39m\u001b[39mtype\u001b[39m\u001b[39m'\u001b[39m: \u001b[39m'\u001b[39m\u001b[39mTextLoggerHook\u001b[39m\u001b[39m'\u001b[39m, \n\u001b[1;32m      8\u001b[0m     }] \n\u001b[1;32m      9\u001b[0m } \n\u001b[0;32m---> 11\u001b[0m runner \u001b[39m=\u001b[39m EpochBasedRunner() \n\u001b[1;32m     12\u001b[0m runner\u001b[39m.\u001b[39mregister_hook()\n\u001b[1;32m     13\u001b[0m runner\u001b[39m.\u001b[39mregister_logger_hooks(log_config) \n",
      "\u001b[0;31mTypeError\u001b[0m: __init__() missing 1 required positional argument: 'model'"
     ]
    }
   ],
   "source": [
    "from mmcv.runner import EpochBasedRunner, IterBasedRunner\n",
    "from mmcv.runner.hooks import EvalHook\n",
    "\n",
    "\n",
    "log_config = { \n",
    "    'interval': 100, \n",
    "    'hooks': [{ \n",
    "        'type': 'TextLoggerHook', \n",
    "    }] \n",
    "} \n",
    "\n",
    "runner = EpochBasedRunner() \n",
    "runner.register_hook()\n",
    "runner.register_logger_hooks(log_config) "
   ]
  }
 ],
 "metadata": {
  "kernelspec": {
   "display_name": "swint",
   "language": "python",
   "name": "python3"
  },
  "language_info": {
   "codemirror_mode": {
    "name": "ipython",
    "version": 3
   },
   "file_extension": ".py",
   "mimetype": "text/x-python",
   "name": "python",
   "nbconvert_exporter": "python",
   "pygments_lexer": "ipython3",
   "version": "3.8.15"
  },
  "orig_nbformat": 4,
  "vscode": {
   "interpreter": {
    "hash": "af1ef7c2422b98f0aa0eb8c8ba68e52bc5e98ee3d10707544ebeb5411de3d7d9"
   }
  }
 },
 "nbformat": 4,
 "nbformat_minor": 2
}
