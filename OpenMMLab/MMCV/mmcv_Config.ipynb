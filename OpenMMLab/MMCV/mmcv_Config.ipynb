{
 "cells": [
  {
   "cell_type": "code",
   "execution_count": 31,
   "metadata": {},
   "outputs": [
    {
     "name": "stdout",
     "output_type": "stream",
     "text": [
      "{'mode': 'train', 'epoch': 1, 'iter': 50, 'lr': 0.0, 'memory': 19628, 'data_time': 0.02194, 'decode.loss_ce': 4.05474, 'decode.acc_seg': 2.51386, 'aux.loss_ce': 1.66555, 'aux.acc_seg': 0.40176, 'loss': 5.72029, 'time': 1.00802}\n",
      "airport_terminal\n"
     ]
    }
   ],
   "source": [
    "#FileI/O\n",
    "import os\n",
    "import json\n",
    "import mmcv\n",
    " \n",
    "dir_path = os.getcwd()\n",
    "\n",
    "json_path = os.path.join(dir_path, '../logs/20221212_145341.log.json')\n",
    "\n",
    "data = mmcv.load(json_path)\n",
    "print(data[1])\n",
    "\n",
    "dict = mmcv.dict_from_file(os.path.join(dir_path, 'logs/sceneCategories.txt'))\n",
    "print(dict['ADE_train_00000001'])"
   ]
  },
  {
   "cell_type": "code",
   "execution_count": null,
   "metadata": {},
   "outputs": [],
   "source": []
  },
  {
   "cell_type": "code",
   "execution_count": 43,
   "metadata": {},
   "outputs": [
    {
     "name": "stdout",
     "output_type": "stream",
     "text": [
      "Config (path: /share/zhang/github/Deep_Learning/OpenMMLab/MMCV/config/test1-1.py): {'a': {'a1': 1, 'a2': 2}, 'b': {'b1': [0, 1, 2], 'b2': None}, 'c': (1, 2), 'd': 'string', 'e': {'b1': [0, 1, 2], 'b2': None}}\n"
     ]
    }
   ],
   "source": [
    "#Config\n",
    "from mmcv import Config\n",
    "config_file = os.path.join(dir_path, 'config/test1-1.py')\n",
    "cfg = Config.fromfile(config_file)\n",
    "print(cfg)"
   ]
  },
  {
   "cell_type": "code",
   "execution_count": 45,
   "metadata": {},
   "outputs": [
    {
     "ename": "AttributeError",
     "evalue": "'NoneType' object has no attribute '__name__'",
     "output_type": "error",
     "traceback": [
      "\u001b[0;31m---------------------------------------------------------------------------\u001b[0m",
      "\u001b[0;31mAttributeError\u001b[0m                            Traceback (most recent call last)",
      "Cell \u001b[0;32mIn[45], line 3\u001b[0m\n\u001b[1;32m      1\u001b[0m \u001b[39m#Registry\u001b[39;00m\n\u001b[1;32m      2\u001b[0m \u001b[39mfrom\u001b[39;00m \u001b[39mmmcv\u001b[39;00m\u001b[39m.\u001b[39;00m\u001b[39mutils\u001b[39;00m \u001b[39mimport\u001b[39;00m Registry\n\u001b[0;32m----> 3\u001b[0m CONVERTERS \u001b[39m=\u001b[39m Registry(\u001b[39m'\u001b[39;49m\u001b[39mconverters\u001b[39;49m\u001b[39m'\u001b[39;49m)\n",
      "File \u001b[0;32m~/miniconda3/envs/swint/lib/python3.9/site-packages/mmcv/utils/registry.py:115\u001b[0m, in \u001b[0;36mRegistry.__init__\u001b[0;34m(self, name, build_func, parent, scope)\u001b[0m\n\u001b[1;32m    113\u001b[0m \u001b[39mself\u001b[39m\u001b[39m.\u001b[39m_module_dict \u001b[39m=\u001b[39m \u001b[39mdict\u001b[39m()\n\u001b[1;32m    114\u001b[0m \u001b[39mself\u001b[39m\u001b[39m.\u001b[39m_children \u001b[39m=\u001b[39m \u001b[39mdict\u001b[39m()\n\u001b[0;32m--> 115\u001b[0m \u001b[39mself\u001b[39m\u001b[39m.\u001b[39m_scope \u001b[39m=\u001b[39m \u001b[39mself\u001b[39;49m\u001b[39m.\u001b[39;49minfer_scope() \u001b[39mif\u001b[39;00m scope \u001b[39mis\u001b[39;00m \u001b[39mNone\u001b[39;00m \u001b[39melse\u001b[39;00m scope\n\u001b[1;32m    117\u001b[0m \u001b[39m# self.build_func will be set with the following priority:\u001b[39;00m\n\u001b[1;32m    118\u001b[0m \u001b[39m# 1. build_func\u001b[39;00m\n\u001b[1;32m    119\u001b[0m \u001b[39m# 2. parent.build_func\u001b[39;00m\n\u001b[1;32m    120\u001b[0m \u001b[39m# 3. build_from_cfg\u001b[39;00m\n\u001b[1;32m    121\u001b[0m \u001b[39mif\u001b[39;00m build_func \u001b[39mis\u001b[39;00m \u001b[39mNone\u001b[39;00m:\n",
      "File \u001b[0;32m~/miniconda3/envs/swint/lib/python3.9/site-packages/mmcv/utils/registry.py:169\u001b[0m, in \u001b[0;36mRegistry.infer_scope\u001b[0;34m()\u001b[0m\n\u001b[1;32m    167\u001b[0m \u001b[39m# get the frame where `infer_scope()` is called\u001b[39;00m\n\u001b[1;32m    168\u001b[0m infer_scope_caller \u001b[39m=\u001b[39m frame\u001b[39m.\u001b[39mf_back\u001b[39m.\u001b[39mf_back\n\u001b[0;32m--> 169\u001b[0m filename \u001b[39m=\u001b[39m inspect\u001b[39m.\u001b[39;49mgetmodule(infer_scope_caller)\u001b[39m.\u001b[39;49m\u001b[39m__name__\u001b[39;49m\n\u001b[1;32m    170\u001b[0m split_filename \u001b[39m=\u001b[39m filename\u001b[39m.\u001b[39msplit(\u001b[39m'\u001b[39m\u001b[39m.\u001b[39m\u001b[39m'\u001b[39m)\n\u001b[1;32m    171\u001b[0m \u001b[39mreturn\u001b[39;00m split_filename[\u001b[39m0\u001b[39m]\n",
      "\u001b[0;31mAttributeError\u001b[0m: 'NoneType' object has no attribute '__name__'"
     ]
    }
   ],
   "source": [
    "#Registry\n",
    "from mmcv.utils import Registry\n",
    "CONVERTERS = Registry('converters')"
   ]
  },
  {
   "attachments": {},
   "cell_type": "markdown",
   "metadata": {},
   "source": [
    "from .builder import CONVERTERS\n",
    "\n",
    "# 使用注册器管理模块\n",
    "@CONVERTERS.register_module()\n",
    "class Converter1(object):\n",
    "    def __init__(self, a, b):\n",
    "        self.a = a\n",
    "        self.b = b"
   ]
  }
 ],
 "metadata": {
  "kernelspec": {
   "display_name": "swint",
   "language": "python",
   "name": "python3"
  },
  "language_info": {
   "codemirror_mode": {
    "name": "ipython",
    "version": 3
   },
   "file_extension": ".py",
   "mimetype": "text/x-python",
   "name": "python",
   "nbconvert_exporter": "python",
   "pygments_lexer": "ipython3",
   "version": "3.8.15 (default, Nov 24 2022, 15:19:38) \n[GCC 11.2.0]"
  },
  "orig_nbformat": 4,
  "vscode": {
   "interpreter": {
    "hash": "af1ef7c2422b98f0aa0eb8c8ba68e52bc5e98ee3d10707544ebeb5411de3d7d9"
   }
  }
 },
 "nbformat": 4,
 "nbformat_minor": 2
}
