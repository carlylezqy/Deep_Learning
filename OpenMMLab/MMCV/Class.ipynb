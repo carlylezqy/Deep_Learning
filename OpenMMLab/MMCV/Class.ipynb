{
 "cells": [
  {
   "cell_type": "code",
   "execution_count": 11,
   "metadata": {},
   "outputs": [
    {
     "name": "stdout",
     "output_type": "stream",
     "text": [
      "<class 'type'> <class 'type'>\n",
      "<class '__main__.Class1'> <class '__main__.Class2'>\n",
      "<__main__.Class1 object at 0x7fe5dc682ee0>\n",
      "<__main__.Class2 object at 0x7fe5dc6824f0>\n",
      "1\n"
     ]
    }
   ],
   "source": [
    "class Class1():\n",
    "    pass\n",
    "class Class2():\n",
    "    pass\n",
    "\n",
    "c1 = Class1()\n",
    "c2 = Class2()\n",
    "print(type(Class1), type(Class2))\n",
    "print(type(c1), type(c2))\n",
    "print(c1); print(c2)\n",
    "\n",
    "Class1.var = 1; print(c1.var)\n"
   ]
  },
  {
   "cell_type": "code",
   "execution_count": 3,
   "metadata": {},
   "outputs": [
    {
     "name": "stdout",
     "output_type": "stream",
     "text": [
      "(10, 10) True\n",
      "True True\n",
      "False\n"
     ]
    }
   ],
   "source": [
    "#name:  类的名称\n",
    "#bases: 基类的元组\n",
    "#dict:  字典，类内定义的命名空间变量\n",
    "\n",
    "Box = type('Box', (), {'size':(10, 10), 'opened':True})\n",
    "b = Box()\n",
    "print(b.size, b.opened)\n",
    "\n",
    "print(hasattr(b, 'size'), hasattr(Box, 'opened'))\n",
    "print(hasattr(b, 'price'))"
   ]
  },
  {
   "cell_type": "code",
   "execution_count": 17,
   "metadata": {},
   "outputs": [
    {
     "name": "stdout",
     "output_type": "stream",
     "text": [
      "True\n",
      "True\n",
      "True\n",
      "False\n"
     ]
    }
   ],
   "source": [
    "class A:\n",
    "    pass\n",
    " \n",
    "class B(A):\n",
    "    pass\n",
    "\n",
    "print(isinstance(A(), A))    # returns True\n",
    "print(isinstance(B(), A))    # returns True\n",
    "print(type(A()) == A)        # returns True\n",
    "print(type(B()) == A)        # returns False"
   ]
  },
  {
   "cell_type": "code",
   "execution_count": 19,
   "metadata": {},
   "outputs": [
    {
     "ename": "AttributeError",
     "evalue": "'A' object has no attribute '__metaclass__'",
     "output_type": "error",
     "traceback": [
      "\u001b[0;31m---------------------------------------------------------------------------\u001b[0m",
      "\u001b[0;31mAttributeError\u001b[0m                            Traceback (most recent call last)",
      "Cell \u001b[0;32mIn[19], line 4\u001b[0m\n\u001b[1;32m      2\u001b[0m     \u001b[39mpass\u001b[39;00m\n\u001b[1;32m      3\u001b[0m a \u001b[39m=\u001b[39m A()\n\u001b[0;32m----> 4\u001b[0m \u001b[39mprint\u001b[39m(a\u001b[39m.\u001b[39;49m__metaclass__)\n",
      "\u001b[0;31mAttributeError\u001b[0m: 'A' object has no attribute '__metaclass__'"
     ]
    }
   ],
   "source": []
  },
  {
   "cell_type": "code",
   "execution_count": null,
   "metadata": {},
   "outputs": [],
   "source": [
    "\"\"\"\n",
    "https://www.jianshu.com/p/224ffcb8e73e\n",
    "https://www.jianshu.com/p/06c960020322\n",
    "\"\"\""
   ]
  }
 ],
 "metadata": {
  "kernelspec": {
   "display_name": "swint",
   "language": "python",
   "name": "python3"
  },
  "language_info": {
   "codemirror_mode": {
    "name": "ipython",
    "version": 3
   },
   "file_extension": ".py",
   "mimetype": "text/x-python",
   "name": "python",
   "nbconvert_exporter": "python",
   "pygments_lexer": "ipython3",
   "version": "3.8.15"
  },
  "orig_nbformat": 4,
  "vscode": {
   "interpreter": {
    "hash": "af1ef7c2422b98f0aa0eb8c8ba68e52bc5e98ee3d10707544ebeb5411de3d7d9"
   }
  }
 },
 "nbformat": 4,
 "nbformat_minor": 2
}
