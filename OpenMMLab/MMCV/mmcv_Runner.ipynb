{
 "cells": [
  {
   "cell_type": "code",
   "execution_count": 3,
   "metadata": {},
   "outputs": [
    {
     "name": "stdout",
     "output_type": "stream",
     "text": [
      "<class '__main__.MyABC'>\n"
     ]
    }
   ],
   "source": [
    "from abc import ABC\n",
    "from abc import ABCMeta\n",
    "\n",
    "class MyABC(ABC):\n",
    "    pass\n",
    "\n",
    "class_abc = MyABC()\n",
    "print(MyABC)\n",
    "\n",
    "\n",
    "# class MyABC(metaclass=ABCMeta):\n",
    "#     pass\n",
    "\n"
   ]
  }
 ],
 "metadata": {
  "kernelspec": {
   "display_name": "swint",
   "language": "python",
   "name": "python3"
  },
  "language_info": {
   "codemirror_mode": {
    "name": "ipython",
    "version": 3
   },
   "file_extension": ".py",
   "mimetype": "text/x-python",
   "name": "python",
   "nbconvert_exporter": "python",
   "pygments_lexer": "ipython3",
   "version": "3.8.15"
  },
  "orig_nbformat": 4,
  "vscode": {
   "interpreter": {
    "hash": "af1ef7c2422b98f0aa0eb8c8ba68e52bc5e98ee3d10707544ebeb5411de3d7d9"
   }
  }
 },
 "nbformat": 4,
 "nbformat_minor": 2
}
