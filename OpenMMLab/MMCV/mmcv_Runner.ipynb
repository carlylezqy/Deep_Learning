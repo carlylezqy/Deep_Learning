{
 "cells": [
  {
   "cell_type": "code",
   "execution_count": 3,
   "metadata": {},
   "outputs": [
    {
     "name": "stdout",
     "output_type": "stream",
     "text": [
      "<class '__main__.MyABC'>\n"
     ]
    }
   ],
   "source": [
    "from abc import ABC\n",
    "from abc import ABCMeta\n",
    "\n",
    "class MyABC(ABC):\n",
    "    pass\n",
    "\n",
    "class_abc = MyABC()\n",
    "print(MyABC)\n",
    "\n",
    "\n",
    "# class MyABC(metaclass=ABCMeta):\n",
    "#     pass\n",
    "\n"
   ]
  },
  {
   "cell_type": "code",
   "execution_count": 4,
   "metadata": {},
   "outputs": [
    {
     "name": "stderr",
     "output_type": "stream",
     "text": [
      "/home/akiyo/miniconda3/envs/swint/lib/python3.8/site-packages/tqdm/auto.py:22: TqdmWarning: IProgress not found. Please update jupyter and ipywidgets. See https://ipywidgets.readthedocs.io/en/stable/user_install.html\n",
      "  from .autonotebook import tqdm as notebook_tqdm\n"
     ]
    },
    {
     "name": "stdout",
     "output_type": "stream",
     "text": [
      "Files already downloaded and verified\n"
     ]
    }
   ],
   "source": [
    "import torchvision\n",
    "from mmcv import Config, ConfigDict\n",
    "from mmcv.runner import build_optimizer, build_runner\n",
    "\n",
    "# Image Classification\n",
    "from mmcls.datasets import build_dataloader\n",
    "\n",
    "cfg = ConfigDict()\n",
    "cfg.optimizer = dict(type='SGD', lr=0.1, momentum=0.9, weight_decay=0.0001)\n",
    "cfg.data = ConfigDict(samples_per_gpu=4, workers_per_gpu=4)\n",
    "#print(cfg)\n",
    "\n",
    "from mmcv.utils import Registry, build_from_cfg\n",
    "MODELS = Registry('models')\n",
    "@MODELS.register_module()\n",
    "class ResNet:\n",
    "    pass\n",
    "resnet = build_from_cfg(dict(type='Resnet'), MODELS)\n",
    "\n",
    "# initialize model\n",
    "model = torchvision.models.resnet18(pretrained=True)\n",
    "\n",
    "# initialize optimizer\n",
    "optimizer = build_optimizer(model, cfg.optimizer)\n",
    "\n",
    "# initialize the dataloader corresponding to the workflow(train/val)\n",
    "dataset = torchvision.datasets.CIFAR10(root='/home/akiyo/nfs/zhang/dataset', train=True, download=True)\n",
    "dataloaders = [\n",
    "    build_dataloader(\n",
    "        ds, cfg.data.samples_per_gpu, cfg.data.workers_per_gpu,\n",
    "    ) for ds in dataset]"
   ]
  },
  {
   "cell_type": "code",
   "execution_count": 7,
   "metadata": {},
   "outputs": [
    {
     "ename": "AssertionError",
     "evalue": "EpochBasedRunner: ",
     "output_type": "error",
     "traceback": [
      "\u001b[0;31m---------------------------------------------------------------------------\u001b[0m",
      "\u001b[0;31mAssertionError\u001b[0m                            Traceback (most recent call last)",
      "File \u001b[0;32m~/miniconda3/envs/swint/lib/python3.8/site-packages/mmcv/utils/registry.py:69\u001b[0m, in \u001b[0;36mbuild_from_cfg\u001b[0;34m(cfg, registry, default_args)\u001b[0m\n\u001b[1;32m     68\u001b[0m \u001b[39mtry\u001b[39;00m:\n\u001b[0;32m---> 69\u001b[0m     \u001b[39mreturn\u001b[39;00m obj_cls(\u001b[39m*\u001b[39;49m\u001b[39m*\u001b[39;49margs)\n\u001b[1;32m     70\u001b[0m \u001b[39mexcept\u001b[39;00m \u001b[39mException\u001b[39;00m \u001b[39mas\u001b[39;00m e:\n\u001b[1;32m     71\u001b[0m     \u001b[39m# Normal TypeError does not print class name.\u001b[39;00m\n",
      "File \u001b[0;32m~/miniconda3/envs/swint/lib/python3.8/site-packages/mmcv/runner/base_runner.py:83\u001b[0m, in \u001b[0;36mBaseRunner.__init__\u001b[0;34m(self, model, batch_processor, optimizer, work_dir, logger, meta, max_iters, max_epochs)\u001b[0m\n\u001b[1;32m     82\u001b[0m \u001b[39melse\u001b[39;00m:\n\u001b[0;32m---> 83\u001b[0m     \u001b[39massert\u001b[39;00m \u001b[39mhasattr\u001b[39m(model, \u001b[39m'\u001b[39m\u001b[39mtrain_step\u001b[39m\u001b[39m'\u001b[39m)\n\u001b[1;32m     85\u001b[0m \u001b[39m# check the type of `optimizer`\u001b[39;00m\n",
      "\u001b[0;31mAssertionError\u001b[0m: ",
      "\nDuring handling of the above exception, another exception occurred:\n",
      "\u001b[0;31mAssertionError\u001b[0m                            Traceback (most recent call last)",
      "Cell \u001b[0;32mIn[7], line 3\u001b[0m\n\u001b[1;32m      1\u001b[0m cfg\u001b[39m.\u001b[39mrunner \u001b[39m=\u001b[39m \u001b[39mdict\u001b[39m(\u001b[39mtype\u001b[39m\u001b[39m=\u001b[39m\u001b[39m'\u001b[39m\u001b[39mEpochBasedRunner\u001b[39m\u001b[39m'\u001b[39m, max_epochs\u001b[39m=\u001b[39m\u001b[39m200\u001b[39m)\n\u001b[0;32m----> 3\u001b[0m runner \u001b[39m=\u001b[39m build_runner(\n\u001b[1;32m      4\u001b[0m     \u001b[39mdict\u001b[39;49m(\u001b[39mtype\u001b[39;49m\u001b[39m=\u001b[39;49m\u001b[39m'\u001b[39;49m\u001b[39mEpochBasedRunner\u001b[39;49m\u001b[39m'\u001b[39;49m, max_epochs\u001b[39m=\u001b[39;49m\u001b[39m200\u001b[39;49m),\n\u001b[1;32m      5\u001b[0m     default_args\u001b[39m=\u001b[39;49m\u001b[39mdict\u001b[39;49m(\n\u001b[1;32m      6\u001b[0m         model\u001b[39m=\u001b[39;49mmodel,\n\u001b[1;32m      7\u001b[0m         batch_processor\u001b[39m=\u001b[39;49m\u001b[39mNone\u001b[39;49;00m,\n\u001b[1;32m      8\u001b[0m         optimizer\u001b[39m=\u001b[39;49moptimizer,\n\u001b[1;32m      9\u001b[0m         \u001b[39m#logger=logger\u001b[39;49;00m\n\u001b[1;32m     10\u001b[0m     ))\n",
      "File \u001b[0;32m~/miniconda3/envs/swint/lib/python3.8/site-packages/mmcv/runner/builder.py:24\u001b[0m, in \u001b[0;36mbuild_runner\u001b[0;34m(cfg, default_args)\u001b[0m\n\u001b[1;32m     17\u001b[0m constructor_type \u001b[39m=\u001b[39m runner_cfg\u001b[39m.\u001b[39mpop(\u001b[39m'\u001b[39m\u001b[39mconstructor\u001b[39m\u001b[39m'\u001b[39m,\n\u001b[1;32m     18\u001b[0m                                   \u001b[39m'\u001b[39m\u001b[39mDefaultRunnerConstructor\u001b[39m\u001b[39m'\u001b[39m)\n\u001b[1;32m     19\u001b[0m runner_constructor \u001b[39m=\u001b[39m build_runner_constructor(\n\u001b[1;32m     20\u001b[0m     \u001b[39mdict\u001b[39m(\n\u001b[1;32m     21\u001b[0m         \u001b[39mtype\u001b[39m\u001b[39m=\u001b[39mconstructor_type,\n\u001b[1;32m     22\u001b[0m         runner_cfg\u001b[39m=\u001b[39mrunner_cfg,\n\u001b[1;32m     23\u001b[0m         default_args\u001b[39m=\u001b[39mdefault_args))\n\u001b[0;32m---> 24\u001b[0m runner \u001b[39m=\u001b[39m runner_constructor()\n\u001b[1;32m     25\u001b[0m \u001b[39mreturn\u001b[39;00m runner\n",
      "File \u001b[0;32m~/miniconda3/envs/swint/lib/python3.8/site-packages/mmcv/runner/default_constructor.py:47\u001b[0m, in \u001b[0;36mDefaultRunnerConstructor.__call__\u001b[0;34m(self)\u001b[0m\n\u001b[1;32m     46\u001b[0m \u001b[39mdef\u001b[39;00m \u001b[39m__call__\u001b[39m(\u001b[39mself\u001b[39m):\n\u001b[0;32m---> 47\u001b[0m     \u001b[39mreturn\u001b[39;00m RUNNERS\u001b[39m.\u001b[39;49mbuild(\u001b[39mself\u001b[39;49m\u001b[39m.\u001b[39;49mrunner_cfg, default_args\u001b[39m=\u001b[39;49m\u001b[39mself\u001b[39;49m\u001b[39m.\u001b[39;49mdefault_args)\n",
      "File \u001b[0;32m~/miniconda3/envs/swint/lib/python3.8/site-packages/mmcv/utils/registry.py:237\u001b[0m, in \u001b[0;36mRegistry.build\u001b[0;34m(self, *args, **kwargs)\u001b[0m\n\u001b[1;32m    236\u001b[0m \u001b[39mdef\u001b[39;00m \u001b[39mbuild\u001b[39m(\u001b[39mself\u001b[39m, \u001b[39m*\u001b[39margs, \u001b[39m*\u001b[39m\u001b[39m*\u001b[39mkwargs):\n\u001b[0;32m--> 237\u001b[0m     \u001b[39mreturn\u001b[39;00m \u001b[39mself\u001b[39;49m\u001b[39m.\u001b[39;49mbuild_func(\u001b[39m*\u001b[39;49margs, \u001b[39m*\u001b[39;49m\u001b[39m*\u001b[39;49mkwargs, registry\u001b[39m=\u001b[39;49m\u001b[39mself\u001b[39;49m)\n",
      "File \u001b[0;32m~/miniconda3/envs/swint/lib/python3.8/site-packages/mmcv/utils/registry.py:72\u001b[0m, in \u001b[0;36mbuild_from_cfg\u001b[0;34m(cfg, registry, default_args)\u001b[0m\n\u001b[1;32m     69\u001b[0m     \u001b[39mreturn\u001b[39;00m obj_cls(\u001b[39m*\u001b[39m\u001b[39m*\u001b[39margs)\n\u001b[1;32m     70\u001b[0m \u001b[39mexcept\u001b[39;00m \u001b[39mException\u001b[39;00m \u001b[39mas\u001b[39;00m e:\n\u001b[1;32m     71\u001b[0m     \u001b[39m# Normal TypeError does not print class name.\u001b[39;00m\n\u001b[0;32m---> 72\u001b[0m     \u001b[39mraise\u001b[39;00m \u001b[39mtype\u001b[39m(e)(\u001b[39mf\u001b[39m\u001b[39m'\u001b[39m\u001b[39m{\u001b[39;00mobj_cls\u001b[39m.\u001b[39m\u001b[39m__name__\u001b[39m\u001b[39m}\u001b[39;00m\u001b[39m: \u001b[39m\u001b[39m{\u001b[39;00me\u001b[39m}\u001b[39;00m\u001b[39m'\u001b[39m)\n",
      "\u001b[0;31mAssertionError\u001b[0m: EpochBasedRunner: "
     ]
    }
   ],
   "source": [
    "cfg.runner = dict(type='EpochBasedRunner', max_epochs=200)\n",
    "\n",
    "runner = build_runner(\n",
    "    dict(type='EpochBasedRunner', max_epochs=200),\n",
    "    default_args=dict(\n",
    "        model=model,\n",
    "        batch_processor=None,\n",
    "        optimizer=optimizer,\n",
    "        #logger=logger\n",
    "    ))"
   ]
  },
  {
   "cell_type": "code",
   "execution_count": null,
   "metadata": {},
   "outputs": [],
   "source": [
    "\n",
    "\n",
    "runner = build_runner(\n",
    "    # cfg.runner is typically set as:\n",
    "    # runner = dict(type='EpochBasedRunner', max_epochs=200)\n",
    "    cfg.runner,\n",
    "    default_args=dict(\n",
    "        model=model,\n",
    "        batch_processor=None,\n",
    "        optimizer=optimizer,\n",
    "        logger=logger))"
   ]
  }
 ],
 "metadata": {
  "kernelspec": {
   "display_name": "swint",
   "language": "python",
   "name": "python3"
  },
  "language_info": {
   "codemirror_mode": {
    "name": "ipython",
    "version": 3
   },
   "file_extension": ".py",
   "mimetype": "text/x-python",
   "name": "python",
   "nbconvert_exporter": "python",
   "pygments_lexer": "ipython3",
   "version": "3.8.15 (default, Nov 24 2022, 15:19:38) \n[GCC 11.2.0]"
  },
  "orig_nbformat": 4,
  "vscode": {
   "interpreter": {
    "hash": "af1ef7c2422b98f0aa0eb8c8ba68e52bc5e98ee3d10707544ebeb5411de3d7d9"
   }
  }
 },
 "nbformat": 4,
 "nbformat_minor": 2
}
