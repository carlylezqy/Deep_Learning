{
 "cells": [
  {
   "cell_type": "code",
   "execution_count": null,
   "metadata": {},
   "outputs": [],
   "source": [
    "import torch\n",
    "import torch.nn.functional as F\n",
    "\n",
    "logits = torch.rand(4, 10)\n",
    "label_A = logits.argmax(dim=1)\n",
    "print(logits.argmax(dim=1))\n",
    "\n",
    "pred = F.softmax(logits, dim=1) #torch.Size([4, 10])\n",
    "label_B = pred.argmax(dim=1) #torch.Size([4])\n",
    "print(label_B)\n",
    "\n",
    "correct = torch.eq(label_A, label_B)\n",
    "\n",
    "print(correct.sum().float().item()/4)"
   ]
  }
 ],
 "metadata": {
  "kernelspec": {
   "display_name": "swint",
   "language": "python",
   "name": "python3"
  },
  "language_info": {
   "name": "python",
   "version": "3.9.15 (main, Nov 24 2022, 14:31:59) \n[GCC 11.2.0]"
  },
  "orig_nbformat": 4,
  "vscode": {
   "interpreter": {
    "hash": "af1ef7c2422b98f0aa0eb8c8ba68e52bc5e98ee3d10707544ebeb5411de3d7d9"
   }
  }
 },
 "nbformat": 4,
 "nbformat_minor": 2
}
