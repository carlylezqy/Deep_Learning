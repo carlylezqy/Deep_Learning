{
 "cells": [
  {
   "cell_type": "code",
   "execution_count": 3,
   "metadata": {},
   "outputs": [],
   "source": [
    "import torch\n",
    "import torch.nn.functional as F\n",
    "from torch.autograd import Variable"
   ]
  },
  {
   "cell_type": "code",
   "execution_count": 8,
   "metadata": {},
   "outputs": [
    {
     "name": "stdout",
     "output_type": "stream",
     "text": [
      "tensor([0.0501, 0.0500, 0.0501])\n",
      "tensor([0.9083, 0.9083, 0.9083])\n",
      "tensor(1.7313, grad_fn=<MaxBackward1>) tensor(-1.7402, grad_fn=<MinBackward1>)\n",
      "Parameter containing:\n",
      "tensor([1., 1., 1.], requires_grad=True)\n",
      "Parameter containing:\n",
      "tensor([0., 0., 0.], requires_grad=True)\n"
     ]
    }
   ],
   "source": [
    "import torch\n",
    "channels = 3\n",
    "x = torch.rand(100, channels, 784)\n",
    "x_2d = torch.rand(1, channels, 7, 7)\n",
    "\n",
    "bn_layer = torch.nn.BatchNorm1d(channels)\n",
    "bn_layer_2d = torch.nn.BatchNorm2d(channels)\n",
    "\n",
    "out = bn_layer(x)\n",
    "out_2d = bn_layer_2d(x_2d)\n",
    "\n",
    "print(bn_layer.running_mean)\n",
    "print(bn_layer.running_var)\n",
    "\n",
    "print(out.max(), out.min())\n",
    "print(bn_layer_2d.weight)\n",
    "print(bn_layer_2d.bias)"
   ]
  }
 ],
 "metadata": {
  "kernelspec": {
   "display_name": "swint",
   "language": "python",
   "name": "python3"
  },
  "language_info": {
   "codemirror_mode": {
    "name": "ipython",
    "version": 3
   },
   "file_extension": ".py",
   "mimetype": "text/x-python",
   "name": "python",
   "nbconvert_exporter": "python",
   "pygments_lexer": "ipython3",
   "version": "3.9.15 (main, Nov 24 2022, 14:31:59) \n[GCC 11.2.0]"
  },
  "orig_nbformat": 4,
  "vscode": {
   "interpreter": {
    "hash": "af1ef7c2422b98f0aa0eb8c8ba68e52bc5e98ee3d10707544ebeb5411de3d7d9"
   }
  }
 },
 "nbformat": 4,
 "nbformat_minor": 2
}
