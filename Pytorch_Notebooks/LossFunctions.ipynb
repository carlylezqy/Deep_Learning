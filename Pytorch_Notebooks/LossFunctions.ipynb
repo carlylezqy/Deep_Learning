{
 "cells": [
  {
   "cell_type": "code",
   "execution_count": 4,
   "source": [
    "import torch\n",
    "import torch.nn as nn\n",
    "import torch.nn.functional as F\n",
    "\n",
    "loss = nn.CrossEntropyLoss()\n",
    "input1 = torch.randn(100, 100, 100, 100, requires_grad=True)\n",
    "target = torch.ones(100, 100, 100, dtype=torch.long)\n",
    "print(input1.shape, target.shape)\n",
    "\n",
    "output = loss(input1, target)\n",
    "\n",
    "output.backward()"
   ],
   "outputs": [
    {
     "output_type": "stream",
     "name": "stdout",
     "text": [
      "torch.Size([100, 3, 100, 100]) torch.Size([100, 100, 100])\n"
     ]
    }
   ],
   "metadata": {}
  },
  {
   "cell_type": "code",
   "execution_count": 8,
   "source": [
    "from torch import nn\n",
    "import torch\n",
    "\n",
    "loss = nn.CrossEntropyLoss()\n",
    "input = torch.tensor([0.8, 0.1, 0.1]).unsqueeze(0)\n",
    "target = torch.tensor(2).unsqueeze(0)\n",
    "output = loss(input, target)\n",
    "\n",
    "print(output)"
   ],
   "outputs": [
    {
     "output_type": "stream",
     "name": "stdout",
     "text": [
      "tensor(1.3897)\n"
     ]
    }
   ],
   "metadata": {}
  }
 ],
 "metadata": {
  "orig_nbformat": 4,
  "language_info": {
   "name": "python",
   "version": "3.8.5",
   "mimetype": "text/x-python",
   "codemirror_mode": {
    "name": "ipython",
    "version": 3
   },
   "pygments_lexer": "ipython3",
   "nbconvert_exporter": "python",
   "file_extension": ".py"
  },
  "kernelspec": {
   "name": "python3",
   "display_name": "Python 3.8.5 64-bit ('pytorch': conda)"
  },
  "interpreter": {
   "hash": "a42b8a4ce736dd2c66ea1ce99679337c817483d455444cad7938dc0dfa14ebe2"
  }
 },
 "nbformat": 4,
 "nbformat_minor": 2
}