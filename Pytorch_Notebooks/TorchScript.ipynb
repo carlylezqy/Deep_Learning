{
 "cells": [
  {
   "cell_type": "code",
   "execution_count": null,
   "metadata": {},
   "outputs": [],
   "source": [
    "# https://pytorch.org/tutorials/beginner/Intro_to_TorchScript_tutorial.html\n",
    "\"\"\"\n",
    "TorchScript, an intermediate representation of a PyTorch model (subclass of nn.Module) \n",
    "that can then be run in a high-performance environment such as C++.\n",
    "\"\"\""
   ]
  },
  {
   "cell_type": "code",
   "execution_count": null,
   "metadata": {},
   "outputs": [],
   "source": [
    "import torch\n",
    "\n",
    "class Model(torch.nn.Module):\n",
    "    def __init__(self):\n",
    "        super(Model, self).__init__()\n",
    "        self.linear = torch.nn.Linear(4, 4)\n",
    "\n",
    "    def forward(self, x, h):\n",
    "        output = torch.tanh(self.linear(x) + h)\n",
    "        return output\n",
    "\n",
    "model = Model()\n",
    "x, h = torch.rand(3, 4), torch.rand(3, 4)\n",
    "traced_model = torch.jit.trace(model, (x, h))\n",
    "\n",
    "print(model)\n",
    "print(traced_model)\n",
    "print(traced_model(x, h).shape)\n",
    "print(traced_model.graph)\n",
    "print(traced_model.code)"
   ]
  },
  {
   "cell_type": "code",
   "execution_count": null,
   "metadata": {},
   "outputs": [],
   "source": [
    "import torch\n",
    "\n",
    "@torch.jit.script\n",
    "def foo(x, y):\n",
    "    if x.max() > y.max():\n",
    "        r = x\n",
    "    else:\n",
    "        r = y\n",
    "    return r\n",
    "\n",
    "print(type(foo))  # torch.jit.ScriptFuncion\n",
    "\n",
    "print(foo.code)"
   ]
  }
 ],
 "metadata": {
  "kernelspec": {
   "display_name": "Python 3.9.13 ('pytorch': conda)",
   "language": "python",
   "name": "python3"
  },
  "language_info": {
   "codemirror_mode": {
    "name": "ipython",
    "version": 3
   },
   "file_extension": ".py",
   "mimetype": "text/x-python",
   "name": "python",
   "nbconvert_exporter": "python",
   "pygments_lexer": "ipython3",
   "version": "3.9.13"
  },
  "orig_nbformat": 4,
  "vscode": {
   "interpreter": {
    "hash": "225b954b04ff71a4e7f3ebd4997bd511ef4b566637ad554feaa6403c6bffc147"
   }
  }
 },
 "nbformat": 4,
 "nbformat_minor": 2
}
