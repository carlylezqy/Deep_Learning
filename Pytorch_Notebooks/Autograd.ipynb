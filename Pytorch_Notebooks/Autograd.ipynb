{
 "cells": [
  {
   "cell_type": "markdown",
   "metadata": {},
   "source": [
    "## A GENTLE INTRODUCTION TO TORCH.AUTOGRAD"
   ]
  },
  {
   "cell_type": "code",
   "execution_count": 1,
   "metadata": {},
   "outputs": [
    {
     "name": "stderr",
     "output_type": "stream",
     "text": [
      "/home/akiyo/miniconda3/envs/pytorch/lib/python3.9/site-packages/tqdm/auto.py:22: TqdmWarning: IProgress not found. Please update jupyter and ipywidgets. See https://ipywidgets.readthedocs.io/en/stable/user_install.html\n",
      "  from .autonotebook import tqdm as notebook_tqdm\n"
     ]
    }
   ],
   "source": [
    "import torch"
   ]
  },
  {
   "cell_type": "code",
   "execution_count": 2,
   "metadata": {},
   "outputs": [
    {
     "name": "stdout",
     "output_type": "stream",
     "text": [
      "tensor([[True, True, True, True, True],\n",
      "        [True, True, True, True, True],\n",
      "        [True, True, True, True, True],\n",
      "        [True, True, True, True, True]])\n"
     ]
    }
   ],
   "source": [
    "x = torch.autograd.Variable(torch.ones(4, 5))\n",
    "y = torch.cos(x)\n",
    "x_tensor_cos = torch.cos(x.data)\n",
    "print(x_tensor_cos == torch.cos(x.data))"
   ]
  },
  {
   "cell_type": "code",
   "execution_count": 43,
   "metadata": {},
   "outputs": [
    {
     "name": "stdout",
     "output_type": "stream",
     "text": [
      "Before: None None None\n",
      "df/dx1(x1=1.0), df/dx2(x2=2.0), df/dx3(x3=3.0)\n",
      " After: 2.0, 1.0, 1.0\n"
     ]
    }
   ],
   "source": [
    "x = torch.tensor(1.)\n",
    "a = torch.tensor(1., requires_grad=True)\n",
    "b = torch.tensor(2., requires_grad=True)\n",
    "c = torch.tensor(3., requires_grad=True)\n",
    "\n",
    "y = a**2 * x + b * x + c\n",
    "\n",
    "print('before:', a.grad, b.grad, c.grad)\n",
    "grads = torch.autograd.grad(y, [a, b, c])\n",
    "print('after:', grads[0], grads[1], grads[2])"
   ]
  },
  {
   "cell_type": "code",
   "execution_count": 57,
   "metadata": {},
   "outputs": [
    {
     "data": {
      "image/png": "[encoded data removed]",
      "text/plain": [
       "<Figure size 500x300 with 1 Axes>"
      ]
     },
     "metadata": {},
     "output_type": "display_data"
    }
   ],
   "source": [
    "import seaborn as sns\n",
    "import numpy as np\n",
    "import pandas as pd\n",
    "from pandas import Series \n",
    "import matplotlib.pyplot as plt\n",
    "\n",
    "X = torch.arange(-5, 5, 0.1, requires_grad=True)\n",
    "fX = X ** 2\n",
    "fX.sum().backward()\n",
    "#fX.backward(torch.ones_like(X))\n",
    "dfX = X.grad\n",
    "\n",
    "X, fX, dfX = X.detach().numpy(), fX.detach().numpy(), dfX.detach().numpy()\n",
    "\n",
    "data = {'x': Series(X), 'fx': Series(fX), 'dfx': Series(dfX)}\n",
    "df = pd.DataFrame(data)\n",
    "\n",
    "plt.figure(figsize=(5, 3))\n",
    "sns.lineplot(data=df, x=\"x\", y=\"fx\")\n",
    "sns.lineplot(data=df, x=\"x\", y=\"dfx\")\n",
    "\n",
    "plt.show()"
   ]
  },
  {
   "cell_type": "markdown",
   "metadata": {},
   "source": [
    "## Computational Graph"
   ]
  },
  {
   "cell_type": "code",
   "execution_count": 10,
   "metadata": {},
   "outputs": [],
   "source": [
    "import torch\n",
    "from torchviz import make_dot"
   ]
  },
  {
   "cell_type": "code",
   "execution_count": 11,
   "metadata": {},
   "outputs": [
    {
     "name": "stdout",
     "output_type": "stream",
     "text": [
      "tensor(5., grad_fn=<AddBackward0>)\n"
     ]
    },
    {
     "data": {
      "image/svg+xml": "<?xml version=\"1.0\" encoding=\"UTF-8\" standalone=\"no\"?>\n<!DOCTYPE svg PUBLIC \"-//W3C//DTD SVG 1.1//EN\"\n \"http://www.w3.org/Graphics/SVG/1.1/DTD/svg11.dtd\">\n<!-- Generated by graphviz version 2.46.1 (20210213.1702)\n -->\n<!-- Pages: 1 -->\n<svg width=\"332pt\" height=\"281pt\"\n viewBox=\"0.00 0.00 332.00 281.00\" xmlns=\"http://www.w3.org/2000/svg\" xmlns:xlink=\"http://www.w3.org/1999/xlink\">\n<g id=\"graph0\" class=\"graph\" transform=\"scale(1 1) rotate(0) translate(4 277)\">\n<polygon fill=\"white\" stroke=\"transparent\" points=\"-4,4 -4,-277 328,-277 328,4 -4,4\"/>\n<!-- 140317912904640 -->\n<g id=\"node1\" class=\"node\">\n<title>140317912904640</title>\n<polygon fill=\"#caff70\" stroke=\"black\" points=\"243.5,-31 189.5,-31 189.5,0 243.5,0 243.5,-31\"/>\n<text text-anchor=\"middle\" x=\"216.5\" y=\"-7\" font-family=\"monospace\" font-size=\"10.00\"> ()</text>\n</g>\n<!-- 140317910467536 -->\n<g id=\"node2\" class=\"node\">\n<title>140317910467536</title>\n<polygon fill=\"lightgrey\" stroke=\"black\" points=\"261,-86 172,-86 172,-67 261,-67 261,-86\"/>\n<text text-anchor=\"middle\" x=\"216.5\" y=\"-74\" font-family=\"monospace\" font-size=\"10.00\">AddBackward0</text>\n</g>\n<!-- 140317910467536&#45;&gt;140317912904640 -->\n<g id=\"edge8\" class=\"edge\">\n<title>140317910467536&#45;&gt;140317912904640</title>\n<path fill=\"none\" stroke=\"black\" d=\"M216.5,-66.79C216.5,-60.07 216.5,-50.4 216.5,-41.34\"/>\n<polygon fill=\"black\" stroke=\"black\" points=\"220,-41.19 216.5,-31.19 213,-41.19 220,-41.19\"/>\n</g>\n<!-- 140317911044352 -->\n<g id=\"node3\" class=\"node\">\n<title>140317911044352</title>\n<polygon fill=\"lightgrey\" stroke=\"black\" points=\"205,-141 116,-141 116,-122 205,-122 205,-141\"/>\n<text text-anchor=\"middle\" x=\"160.5\" y=\"-129\" font-family=\"monospace\" font-size=\"10.00\">MulBackward0</text>\n</g>\n<!-- 140317911044352&#45;&gt;140317910467536 -->\n<g id=\"edge1\" class=\"edge\">\n<title>140317911044352&#45;&gt;140317910467536</title>\n<path fill=\"none\" stroke=\"black\" d=\"M169.5,-121.98C177.69,-114.23 190.01,-102.58 199.97,-93.14\"/>\n<polygon fill=\"black\" stroke=\"black\" points=\"202.48,-95.59 207.34,-86.17 197.67,-90.5 202.48,-95.59\"/>\n</g>\n<!-- 140317911044400 -->\n<g id=\"node4\" class=\"node\">\n<title>140317911044400</title>\n<polygon fill=\"lightgrey\" stroke=\"black\" points=\"101,-201.5 0,-201.5 0,-182.5 101,-182.5 101,-201.5\"/>\n<text text-anchor=\"middle\" x=\"50.5\" y=\"-189.5\" font-family=\"monospace\" font-size=\"10.00\">AccumulateGrad</text>\n</g>\n<!-- 140317911044400&#45;&gt;140317911044352 -->\n<g id=\"edge2\" class=\"edge\">\n<title>140317911044400&#45;&gt;140317911044352</title>\n<path fill=\"none\" stroke=\"black\" d=\"M66.73,-182.37C84.77,-172.78 114.12,-157.17 135.18,-145.97\"/>\n<polygon fill=\"black\" stroke=\"black\" points=\"137.02,-148.95 144.2,-141.17 133.73,-142.77 137.02,-148.95\"/>\n</g>\n<!-- 140317868478400 -->\n<g id=\"node5\" class=\"node\">\n<title>140317868478400</title>\n<polygon fill=\"lightblue\" stroke=\"black\" points=\"77.5,-273 23.5,-273 23.5,-243 77.5,-243 77.5,-273\"/>\n<text text-anchor=\"middle\" x=\"50.5\" y=\"-261\" font-family=\"monospace\" font-size=\"10.00\">x</text>\n<text text-anchor=\"middle\" x=\"50.5\" y=\"-250\" font-family=\"monospace\" font-size=\"10.00\"> ()</text>\n</g>\n<!-- 140317868478400&#45;&gt;140317911044400 -->\n<g id=\"edge3\" class=\"edge\">\n<title>140317868478400&#45;&gt;140317911044400</title>\n<path fill=\"none\" stroke=\"black\" d=\"M50.5,-242.8C50.5,-233.7 50.5,-221.79 50.5,-211.9\"/>\n<polygon fill=\"black\" stroke=\"black\" points=\"54,-211.84 50.5,-201.84 47,-211.84 54,-211.84\"/>\n</g>\n<!-- 140317911045840 -->\n<g id=\"node6\" class=\"node\">\n<title>140317911045840</title>\n<polygon fill=\"lightgrey\" stroke=\"black\" points=\"220,-201.5 119,-201.5 119,-182.5 220,-182.5 220,-201.5\"/>\n<text text-anchor=\"middle\" x=\"169.5\" y=\"-189.5\" font-family=\"monospace\" font-size=\"10.00\">AccumulateGrad</text>\n</g>\n<!-- 140317911045840&#45;&gt;140317911044352 -->\n<g id=\"edge4\" class=\"edge\">\n<title>140317911045840&#45;&gt;140317911044352</title>\n<path fill=\"none\" stroke=\"black\" d=\"M168.17,-182.37C166.91,-174.16 164.97,-161.54 163.35,-151.05\"/>\n<polygon fill=\"black\" stroke=\"black\" points=\"166.81,-150.52 161.83,-141.17 159.89,-151.58 166.81,-150.52\"/>\n</g>\n<!-- 140317911453760 -->\n<g id=\"node7\" class=\"node\">\n<title>140317911453760</title>\n<polygon fill=\"lightblue\" stroke=\"black\" points=\"196.5,-273 142.5,-273 142.5,-243 196.5,-243 196.5,-273\"/>\n<text text-anchor=\"middle\" x=\"169.5\" y=\"-261\" font-family=\"monospace\" font-size=\"10.00\">w</text>\n<text text-anchor=\"middle\" x=\"169.5\" y=\"-250\" font-family=\"monospace\" font-size=\"10.00\"> ()</text>\n</g>\n<!-- 140317911453760&#45;&gt;140317911045840 -->\n<g id=\"edge5\" class=\"edge\">\n<title>140317911453760&#45;&gt;140317911045840</title>\n<path fill=\"none\" stroke=\"black\" d=\"M169.5,-242.8C169.5,-233.7 169.5,-221.79 169.5,-211.9\"/>\n<polygon fill=\"black\" stroke=\"black\" points=\"173,-211.84 169.5,-201.84 166,-211.84 173,-211.84\"/>\n</g>\n<!-- 140317911045696 -->\n<g id=\"node8\" class=\"node\">\n<title>140317911045696</title>\n<polygon fill=\"lightgrey\" stroke=\"black\" points=\"324,-141 223,-141 223,-122 324,-122 324,-141\"/>\n<text text-anchor=\"middle\" x=\"273.5\" y=\"-129\" font-family=\"monospace\" font-size=\"10.00\">AccumulateGrad</text>\n</g>\n<!-- 140317911045696&#45;&gt;140317910467536 -->\n<g id=\"edge6\" class=\"edge\">\n<title>140317911045696&#45;&gt;140317910467536</title>\n<path fill=\"none\" stroke=\"black\" d=\"M264.34,-121.98C256,-114.23 243.47,-102.58 233.32,-93.14\"/>\n<polygon fill=\"black\" stroke=\"black\" points=\"235.53,-90.42 225.82,-86.17 230.76,-95.54 235.53,-90.42\"/>\n</g>\n<!-- 140317868564416 -->\n<g id=\"node9\" class=\"node\">\n<title>140317868564416</title>\n<polygon fill=\"lightblue\" stroke=\"black\" points=\"300.5,-207 246.5,-207 246.5,-177 300.5,-177 300.5,-207\"/>\n<text text-anchor=\"middle\" x=\"273.5\" y=\"-195\" font-family=\"monospace\" font-size=\"10.00\">b</text>\n<text text-anchor=\"middle\" x=\"273.5\" y=\"-184\" font-family=\"monospace\" font-size=\"10.00\"> ()</text>\n</g>\n<!-- 140317868564416&#45;&gt;140317911045696 -->\n<g id=\"edge7\" class=\"edge\">\n<title>140317868564416&#45;&gt;140317911045696</title>\n<path fill=\"none\" stroke=\"black\" d=\"M273.5,-176.84C273.5,-169.21 273.5,-159.7 273.5,-151.45\"/>\n<polygon fill=\"black\" stroke=\"black\" points=\"277,-151.27 273.5,-141.27 270,-151.27 277,-151.27\"/>\n</g>\n</g>\n</svg>\n",
      "text/plain": [
       "<graphviz.dot.Digraph at 0x7f9e4f3583a0>"
      ]
     },
     "execution_count": 11,
     "metadata": {},
     "output_type": "execute_result"
    }
   ],
   "source": [
    "x = torch.tensor(1.0, requires_grad=True)\n",
    "w = torch.tensor(2.0, requires_grad=True)\n",
    "b = torch.tensor(3.0, requires_grad=True)\n",
    "\n",
    "y = x * w + b  # 計算グラフを構築\n",
    "print(y)\n",
    "\n",
    "make_dot(y,params={'x':x,'w':w,'b':b})"
   ]
  },
  {
   "cell_type": "code",
   "execution_count": 12,
   "metadata": {},
   "outputs": [
    {
     "name": "stdout",
     "output_type": "stream",
     "text": [
      "tensor(1., grad_fn=<PowBackward0>)\n"
     ]
    },
    {
     "data": {
      "image/svg+xml": "<?xml version=\"1.0\" encoding=\"UTF-8\" standalone=\"no\"?>\n<!DOCTYPE svg PUBLIC \"-//W3C//DTD SVG 1.1//EN\"\n \"http://www.w3.org/Graphics/SVG/1.1/DTD/svg11.dtd\">\n<!-- Generated by graphviz version 2.46.1 (20210213.1702)\n -->\n<!-- Pages: 1 -->\n<svg width=\"436pt\" height=\"402pt\"\n viewBox=\"0.00 0.00 436.00 402.00\" xmlns=\"http://www.w3.org/2000/svg\" xmlns:xlink=\"http://www.w3.org/1999/xlink\">\n<g id=\"graph0\" class=\"graph\" transform=\"scale(1 1) rotate(0) translate(4 398)\">\n<polygon fill=\"white\" stroke=\"transparent\" points=\"-4,4 -4,-398 432,-398 432,4 -4,4\"/>\n<!-- 140317912860096 -->\n<g id=\"node1\" class=\"node\">\n<title>140317912860096</title>\n<polygon fill=\"#caff70\" stroke=\"black\" points=\"347.5,-31 293.5,-31 293.5,0 347.5,0 347.5,-31\"/>\n<text text-anchor=\"middle\" x=\"320.5\" y=\"-7\" font-family=\"monospace\" font-size=\"10.00\"> ()</text>\n</g>\n<!-- 140317912558752 -->\n<g id=\"node2\" class=\"node\">\n<title>140317912558752</title>\n<polygon fill=\"lightgrey\" stroke=\"black\" points=\"365,-86 276,-86 276,-67 365,-67 365,-86\"/>\n<text text-anchor=\"middle\" x=\"320.5\" y=\"-74\" font-family=\"monospace\" font-size=\"10.00\">PowBackward0</text>\n</g>\n<!-- 140317912558752&#45;&gt;140317912860096 -->\n<g id=\"edge12\" class=\"edge\">\n<title>140317912558752&#45;&gt;140317912860096</title>\n<path fill=\"none\" stroke=\"black\" d=\"M320.5,-66.79C320.5,-60.07 320.5,-50.4 320.5,-41.34\"/>\n<polygon fill=\"black\" stroke=\"black\" points=\"324,-41.19 320.5,-31.19 317,-41.19 324,-41.19\"/>\n</g>\n<!-- 140317912558416 -->\n<g id=\"node3\" class=\"node\">\n<title>140317912558416</title>\n<polygon fill=\"lightgrey\" stroke=\"black\" points=\"365,-141 276,-141 276,-122 365,-122 365,-141\"/>\n<text text-anchor=\"middle\" x=\"320.5\" y=\"-129\" font-family=\"monospace\" font-size=\"10.00\">SubBackward0</text>\n</g>\n<!-- 140317912558416&#45;&gt;140317912558752 -->\n<g id=\"edge1\" class=\"edge\">\n<title>140317912558416&#45;&gt;140317912558752</title>\n<path fill=\"none\" stroke=\"black\" d=\"M320.5,-121.75C320.5,-114.8 320.5,-104.85 320.5,-96.13\"/>\n<polygon fill=\"black\" stroke=\"black\" points=\"324,-96.09 320.5,-86.09 317,-96.09 324,-96.09\"/>\n</g>\n<!-- 140317910467536 -->\n<g id=\"node4\" class=\"node\">\n<title>140317910467536</title>\n<polygon fill=\"lightgrey\" stroke=\"black\" points=\"309,-196 220,-196 220,-177 309,-177 309,-196\"/>\n<text text-anchor=\"middle\" x=\"264.5\" y=\"-184\" font-family=\"monospace\" font-size=\"10.00\">AddBackward0</text>\n</g>\n<!-- 140317910467536&#45;&gt;140317912558416 -->\n<g id=\"edge2\" class=\"edge\">\n<title>140317910467536&#45;&gt;140317912558416</title>\n<path fill=\"none\" stroke=\"black\" d=\"M273.5,-176.98C281.69,-169.23 294.01,-157.58 303.97,-148.14\"/>\n<polygon fill=\"black\" stroke=\"black\" points=\"306.48,-150.59 311.34,-141.17 301.67,-145.5 306.48,-150.59\"/>\n</g>\n<!-- 140317911044352 -->\n<g id=\"node5\" class=\"node\">\n<title>140317911044352</title>\n<polygon fill=\"lightgrey\" stroke=\"black\" points=\"205,-256.5 116,-256.5 116,-237.5 205,-237.5 205,-256.5\"/>\n<text text-anchor=\"middle\" x=\"160.5\" y=\"-244.5\" font-family=\"monospace\" font-size=\"10.00\">MulBackward0</text>\n</g>\n<!-- 140317911044352&#45;&gt;140317910467536 -->\n<g id=\"edge3\" class=\"edge\">\n<title>140317911044352&#45;&gt;140317910467536</title>\n<path fill=\"none\" stroke=\"black\" d=\"M175.85,-237.37C192.82,-227.82 220.4,-212.31 240.29,-201.12\"/>\n<polygon fill=\"black\" stroke=\"black\" points=\"242.09,-204.12 249.09,-196.17 238.66,-198.02 242.09,-204.12\"/>\n</g>\n<!-- 140317911044400 -->\n<g id=\"node6\" class=\"node\">\n<title>140317911044400</title>\n<polygon fill=\"lightgrey\" stroke=\"black\" points=\"101,-322.5 0,-322.5 0,-303.5 101,-303.5 101,-322.5\"/>\n<text text-anchor=\"middle\" x=\"50.5\" y=\"-310.5\" font-family=\"monospace\" font-size=\"10.00\">AccumulateGrad</text>\n</g>\n<!-- 140317911044400&#45;&gt;140317911044352 -->\n<g id=\"edge4\" class=\"edge\">\n<title>140317911044400&#45;&gt;140317911044352</title>\n<path fill=\"none\" stroke=\"black\" d=\"M65.34,-303.37C83.62,-292.73 114.94,-274.51 136.63,-261.89\"/>\n<polygon fill=\"black\" stroke=\"black\" points=\"138.67,-264.75 145.55,-256.7 135.14,-258.7 138.67,-264.75\"/>\n</g>\n<!-- 140317868478400 -->\n<g id=\"node7\" class=\"node\">\n<title>140317868478400</title>\n<polygon fill=\"lightblue\" stroke=\"black\" points=\"77.5,-394 23.5,-394 23.5,-364 77.5,-364 77.5,-394\"/>\n<text text-anchor=\"middle\" x=\"50.5\" y=\"-382\" font-family=\"monospace\" font-size=\"10.00\">x</text>\n<text text-anchor=\"middle\" x=\"50.5\" y=\"-371\" font-family=\"monospace\" font-size=\"10.00\"> ()</text>\n</g>\n<!-- 140317868478400&#45;&gt;140317911044400 -->\n<g id=\"edge5\" class=\"edge\">\n<title>140317868478400&#45;&gt;140317911044400</title>\n<path fill=\"none\" stroke=\"black\" d=\"M50.5,-363.8C50.5,-354.7 50.5,-342.79 50.5,-332.9\"/>\n<polygon fill=\"black\" stroke=\"black\" points=\"54,-332.84 50.5,-322.84 47,-332.84 54,-332.84\"/>\n</g>\n<!-- 140317911045840 -->\n<g id=\"node8\" class=\"node\">\n<title>140317911045840</title>\n<polygon fill=\"lightgrey\" stroke=\"black\" points=\"220,-322.5 119,-322.5 119,-303.5 220,-303.5 220,-322.5\"/>\n<text text-anchor=\"middle\" x=\"169.5\" y=\"-310.5\" font-family=\"monospace\" font-size=\"10.00\">AccumulateGrad</text>\n</g>\n<!-- 140317911045840&#45;&gt;140317911044352 -->\n<g id=\"edge6\" class=\"edge\">\n<title>140317911045840&#45;&gt;140317911044352</title>\n<path fill=\"none\" stroke=\"black\" d=\"M168.29,-303.37C166.98,-294.07 164.86,-278.98 163.16,-266.9\"/>\n<polygon fill=\"black\" stroke=\"black\" points=\"166.61,-266.32 161.75,-256.91 159.68,-267.3 166.61,-266.32\"/>\n</g>\n<!-- 140317911453760 -->\n<g id=\"node9\" class=\"node\">\n<title>140317911453760</title>\n<polygon fill=\"lightblue\" stroke=\"black\" points=\"196.5,-394 142.5,-394 142.5,-364 196.5,-364 196.5,-394\"/>\n<text text-anchor=\"middle\" x=\"169.5\" y=\"-382\" font-family=\"monospace\" font-size=\"10.00\">w</text>\n<text text-anchor=\"middle\" x=\"169.5\" y=\"-371\" font-family=\"monospace\" font-size=\"10.00\"> ()</text>\n</g>\n<!-- 140317911453760&#45;&gt;140317911045840 -->\n<g id=\"edge7\" class=\"edge\">\n<title>140317911453760&#45;&gt;140317911045840</title>\n<path fill=\"none\" stroke=\"black\" d=\"M169.5,-363.8C169.5,-354.7 169.5,-342.79 169.5,-332.9\"/>\n<polygon fill=\"black\" stroke=\"black\" points=\"173,-332.84 169.5,-322.84 166,-332.84 173,-332.84\"/>\n</g>\n<!-- 140317911045696 -->\n<g id=\"node10\" class=\"node\">\n<title>140317911045696</title>\n<polygon fill=\"lightgrey\" stroke=\"black\" points=\"324,-256.5 223,-256.5 223,-237.5 324,-237.5 324,-256.5\"/>\n<text text-anchor=\"middle\" x=\"273.5\" y=\"-244.5\" font-family=\"monospace\" font-size=\"10.00\">AccumulateGrad</text>\n</g>\n<!-- 140317911045696&#45;&gt;140317910467536 -->\n<g id=\"edge8\" class=\"edge\">\n<title>140317911045696&#45;&gt;140317910467536</title>\n<path fill=\"none\" stroke=\"black\" d=\"M272.17,-237.37C270.91,-229.16 268.97,-216.54 267.35,-206.05\"/>\n<polygon fill=\"black\" stroke=\"black\" points=\"270.81,-205.52 265.83,-196.17 263.89,-206.58 270.81,-205.52\"/>\n</g>\n<!-- 140317868564416 -->\n<g id=\"node11\" class=\"node\">\n<title>140317868564416</title>\n<polygon fill=\"lightblue\" stroke=\"black\" points=\"300.5,-328 246.5,-328 246.5,-298 300.5,-298 300.5,-328\"/>\n<text text-anchor=\"middle\" x=\"273.5\" y=\"-316\" font-family=\"monospace\" font-size=\"10.00\">b</text>\n<text text-anchor=\"middle\" x=\"273.5\" y=\"-305\" font-family=\"monospace\" font-size=\"10.00\"> ()</text>\n</g>\n<!-- 140317868564416&#45;&gt;140317911045696 -->\n<g id=\"edge9\" class=\"edge\">\n<title>140317868564416&#45;&gt;140317911045696</title>\n<path fill=\"none\" stroke=\"black\" d=\"M273.5,-297.8C273.5,-288.7 273.5,-276.79 273.5,-266.9\"/>\n<polygon fill=\"black\" stroke=\"black\" points=\"277,-266.84 273.5,-256.84 270,-266.84 277,-266.84\"/>\n</g>\n<!-- 140317912557648 -->\n<g id=\"node12\" class=\"node\">\n<title>140317912557648</title>\n<polygon fill=\"lightgrey\" stroke=\"black\" points=\"428,-196 327,-196 327,-177 428,-177 428,-196\"/>\n<text text-anchor=\"middle\" x=\"377.5\" y=\"-184\" font-family=\"monospace\" font-size=\"10.00\">AccumulateGrad</text>\n</g>\n<!-- 140317912557648&#45;&gt;140317912558416 -->\n<g id=\"edge10\" class=\"edge\">\n<title>140317912557648&#45;&gt;140317912558416</title>\n<path fill=\"none\" stroke=\"black\" d=\"M368.34,-176.98C360,-169.23 347.47,-157.58 337.32,-148.14\"/>\n<polygon fill=\"black\" stroke=\"black\" points=\"339.53,-145.42 329.82,-141.17 334.76,-150.54 339.53,-145.42\"/>\n</g>\n<!-- 140317912860928 -->\n<g id=\"node13\" class=\"node\">\n<title>140317912860928</title>\n<polygon fill=\"lightblue\" stroke=\"black\" points=\"404.5,-262 350.5,-262 350.5,-232 404.5,-232 404.5,-262\"/>\n<text text-anchor=\"middle\" x=\"377.5\" y=\"-250\" font-family=\"monospace\" font-size=\"10.00\">t</text>\n<text text-anchor=\"middle\" x=\"377.5\" y=\"-239\" font-family=\"monospace\" font-size=\"10.00\"> ()</text>\n</g>\n<!-- 140317912860928&#45;&gt;140317912557648 -->\n<g id=\"edge11\" class=\"edge\">\n<title>140317912860928&#45;&gt;140317912557648</title>\n<path fill=\"none\" stroke=\"black\" d=\"M377.5,-231.84C377.5,-224.21 377.5,-214.7 377.5,-206.45\"/>\n<polygon fill=\"black\" stroke=\"black\" points=\"381,-206.27 377.5,-196.27 374,-206.27 381,-206.27\"/>\n</g>\n</g>\n</svg>\n",
      "text/plain": [
       "<graphviz.dot.Digraph at 0x7f9e4f556b80>"
      ]
     },
     "execution_count": 12,
     "metadata": {},
     "output_type": "execute_result"
    }
   ],
   "source": [
    "#正解値 t との2乗誤差を計算\n",
    "t = torch.tensor(4.0, requires_grad=True)\n",
    "    #tは正解値のつもりなので本来自動微分を計算する必要はないが，requires_grad=Trueにしておかないとグラフに含まれなくなる\n",
    "error = (y - t)**2\n",
    "print(error)\n",
    "\n",
    "# 計算グラフを表示\n",
    "make_dot(error,params={'x':x,'w':w,'b':b, 't':t})"
   ]
  }
 ],
 "metadata": {
  "kernelspec": {
   "display_name": "Python 3.9.13 ('pytorch': conda)",
   "language": "python",
   "name": "python3"
  },
  "language_info": {
   "codemirror_mode": {
    "name": "ipython",
    "version": 3
   },
   "file_extension": ".py",
   "mimetype": "text/x-python",
   "name": "python",
   "nbconvert_exporter": "python",
   "pygments_lexer": "ipython3",
   "version": "3.10.8"
  },
  "orig_nbformat": 4,
  "vscode": {
   "interpreter": {
    "hash": "225b954b04ff71a4e7f3ebd4997bd511ef4b566637ad554feaa6403c6bffc147"
   }
  }
 },
 "nbformat": 4,
 "nbformat_minor": 2
}
