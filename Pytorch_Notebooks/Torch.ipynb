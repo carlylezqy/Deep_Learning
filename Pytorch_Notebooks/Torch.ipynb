{
 "cells": [
  {
   "cell_type": "code",
   "execution_count": 10,
   "metadata": {},
   "outputs": [
    {
     "name": "stdout",
     "output_type": "stream",
     "text": [
      "tensor([-1.7182e+22,  4.5852e-41, -1.7182e+22,  4.5852e-41]) torch.Size([2, 2])\n",
      "tensor.shape:torch.Size([3, 4]), tensor.dtype:torch.float32, tensor.device:cpu\n"
     ]
    }
   ],
   "source": [
    "#生成/转换/仿制\n",
    "import torch\n",
    "import numpy as np\n",
    "\n",
    "x = torch.Tensor(2, 2); print(f\"{x.flatten()} {x.shape}\")\n",
    "\n",
    "data = [[1, 2],[3, 4]]\n",
    "np_data = np.array(data)\n",
    "t_data  = torch.tensor(data)\n",
    "\n",
    "tensor = torch.rand(3, 4)\n",
    "print(f\"tensor.shape:{tensor.shape}, tensor.dtype:{tensor.dtype}, tensor.device:{tensor.device}\")\n",
    "\n",
    "np2t = torch.from_numpy(np_data)\n",
    "x_ones = torch.ones_like(np2t)                    # retains the properties of x_data\n",
    "x_rand = torch.rand_like(np2t, dtype=torch.float) # overrides the datatype of x_data"
   ]
  },
  {
   "cell_type": "code",
   "execution_count": 17,
   "metadata": {},
   "outputs": [
    {
     "name": "stdout",
     "output_type": "stream",
     "text": [
      "tensor([[1., 0., 1., 1., 1., 1., 1., 1., 1., 1.],\n",
      "        [1., 0., 1., 1., 1., 1., 1., 1., 1., 1.]])\n"
     ]
    }
   ],
   "source": [
    "#行列操作\n",
    "tensor = torch.ones(2, 10)\n",
    "tensor[:,1] = 0\n",
    "print(tensor)"
   ]
  },
  {
   "cell_type": "code",
   "execution_count": 5,
   "metadata": {},
   "outputs": [
    {
     "data": {
      "text/plain": [
       "(tensor([0, 1, 2]),\n",
       " tensor([3, 4, 5]),\n",
       " tensor([6, 7, 8]),\n",
       " tensor([ 9, 10, 11]),\n",
       " tensor([12]))"
      ]
     },
     "execution_count": 5,
     "metadata": {},
     "output_type": "execute_result"
    }
   ],
   "source": [
    "import torch; torch.arange(13).chunk(6)"
   ]
  },
  {
   "cell_type": "code",
   "execution_count": 22,
   "metadata": {},
   "outputs": [
    {
     "name": "stdout",
     "output_type": "stream",
     "text": [
      "x.mul(y)      :tensor([6., 6., 6., 6.])\n",
      "x * y         :tensor([6., 6., 6., 6.])\n",
      "x.matmul(y.T) :tensor([12., 12., 12., 12.])\n",
      "x.mm(y)       :tensor([12., 12., 12., 12.])\n",
      "x @ y.T       :tensor([12., 12., 12., 12.])\n"
     ]
    }
   ],
   "source": [
    "#运算\n",
    "x = torch.ones((2, 2)) * 2\n",
    "y = torch.ones((2, 2)) * 3\n",
    "print(f\"x.mul(y)      :{x.mul(y).flatten()}\")      # This computes the element-wise product\n",
    "print(f\"x * y         :{(x * y).flatten()}\")       # Alternative syntax\n",
    "print(f\"x.matmul(y.T) :{x.matmul(y.T).flatten()}\") # Alternative syntax:\n",
    "print(f\"x.mm(y)       :{(x.mm(y.T).flatten())}\")\n",
    "print(f\"x @ y.T       :{(x @ y.T).flatten()}\")\n"
   ]
  },
  {
   "cell_type": "code",
   "execution_count": 20,
   "metadata": {},
   "outputs": [
    {
     "name": "stdout",
     "output_type": "stream",
     "text": [
      "tensor([5., 5., 5., 5.])\n",
      "x+y=tensor([5., 5., 5., 5.]) x=tensor([2., 2., 2., 2.])\n",
      "x+y=tensor([5., 5., 5., 5.]) x=tensor([5., 5., 5., 5.])\n",
      "y*5=tensor([15., 15., 15., 15.])\n"
     ]
    }
   ],
   "source": [
    "x, y = torch.ones(2, 2) * 2, torch.ones(2, 2) * 3\n",
    "result = torch.empty(2, 2)\n",
    "torch.add(x, y,out=result)\n",
    "print(result.flatten())\n",
    "print(f\"x+y={(x.add(y).flatten())} x={x.flatten()}\")  #不覆盖加法 \n",
    "print(f\"x+y={(x.add_(y).flatten())} x={x.flatten()}\") #覆盖加法\n",
    "print(f\"y*5={(y.mul_(5)).flatten()}\")                             #覆盖乘法\n",
    "\n",
    "\"\"\"\n",
    "x.add_(y), x.mul_(y), x.div_(y); \n",
    "x.pow_(y); x.tanh_();\n",
    "x.t_(); \n",
    "x.copy_(y); \n",
    "x.clamp_(min=0, max=1)\n",
    "\"\"\" if False else None"
   ]
  },
  {
   "cell_type": "code",
   "execution_count": 19,
   "metadata": {},
   "outputs": [
    {
     "name": "stdout",
     "output_type": "stream",
     "text": [
      "t: tensor([1., 1., 1., 1., 1., 1., 1., 1., 1., 1.])\n",
      "t: tensor([0., 1., 1., 1., 1., 1., 1., 1., 1., 1.])\n"
     ]
    }
   ],
   "source": [
    "# [Attention]: Tensors on the CPU and NumPy arrays can share their underlying memory locations, \n",
    "# and changing one will change the other.\n",
    "t = torch.ones(10)\n",
    "print(f\"t: {t}\")\n",
    "n = t.numpy()\n",
    "n[0] = 0\n",
    "print(f\"t: {t}\")"
   ]
  },
  {
   "cell_type": "code",
   "execution_count": 26,
   "metadata": {},
   "outputs": [
    {
     "name": "stdout",
     "output_type": "stream",
     "text": [
      "tensor(0.0200) tensor(0.0200)\n"
     ]
    }
   ],
   "source": [
    "#random init tensor\n",
    "from timm.models.layers import trunc_normal_\n",
    "x = torch.zeros((1, 3, 255, 255))\n",
    "trunc_normal_(x, mean=.02, std=.02)\n",
    "print(torch.mean(x), torch.std(x))"
   ]
  },
  {
   "cell_type": "code",
   "execution_count": null,
   "metadata": {},
   "outputs": [],
   "source": [
    "import torch\n",
    "x = torch.zeros(4,4,4,4,4)\n",
    "i = torch.ones(100, dtype=torch.long)\n",
    "j = torch.ones(100, dtype=torch.long)\n",
    "print(x[i][j].shape)"
   ]
  },
  {
   "cell_type": "code",
   "execution_count": null,
   "metadata": {},
   "outputs": [],
   "source": [
    "x = torch.arange(0, 4).reshape(2, 2)\n",
    "i = torch.zeros(2000, dtype=torch.long)\n",
    "print(x)\n",
    "print(x[0])\n",
    "print(x[i])\n",
    "print(x[i].shape)\n",
    "#[169, 3] --> [2401, 3] --> [49, 49, 3]"
   ]
  },
  {
   "cell_type": "code",
   "execution_count": 7,
   "metadata": {},
   "outputs": [
    {
     "ename": "RuntimeError",
     "evalue": "Storage size calculation overflowed with sizes=[13, 12, 13, 12, 13, 12, 13, 12, 13, 12, 13, 12, 13, 12, 13, 12, 13, 12, 13, 12, 13, 12, 13, 12, 13, 12]",
     "output_type": "error",
     "traceback": [
      "\u001b[0;31m---------------------------------------------------------------------------\u001b[0m",
      "\u001b[0;31mRuntimeError\u001b[0m                              Traceback (most recent call last)",
      "Cell \u001b[0;32mIn[7], line 3\u001b[0m\n\u001b[1;32m      1\u001b[0m \u001b[39mimport\u001b[39;00m \u001b[39mtorch\u001b[39;00m\n\u001b[1;32m      2\u001b[0m w_size \u001b[39m=\u001b[39m \u001b[39m7\u001b[39m; num_heads \u001b[39m=\u001b[39m \u001b[39m12\u001b[39m\n\u001b[0;32m----> 3\u001b[0m torch\u001b[39m.\u001b[39;49mzeros((\u001b[39m2\u001b[39;49m \u001b[39m*\u001b[39;49m w_size \u001b[39m-\u001b[39;49m \u001b[39m1\u001b[39;49m) \u001b[39m*\u001b[39;49m (\u001b[39m2\u001b[39;49m \u001b[39m*\u001b[39;49m w_size \u001b[39m-\u001b[39;49m \u001b[39m1\u001b[39;49m, num_heads))\n",
      "\u001b[0;31mRuntimeError\u001b[0m: Storage size calculation overflowed with sizes=[13, 12, 13, 12, 13, 12, 13, 12, 13, 12, 13, 12, 13, 12, 13, 12, 13, 12, 13, 12, 13, 12, 13, 12, 13, 12]"
     ]
    }
   ],
   "source": [
    "import torch\n",
    "w_size = 7; num_heads = 12\n",
    "# torch.zeros((2 * w_size - 1) * (2 * w_size - 1, num_heads))"
   ]
  },
  {
   "cell_type": "code",
   "execution_count": 3,
   "metadata": {},
   "outputs": [
    {
     "name": "stdout",
     "output_type": "stream",
     "text": [
      "torch.Size([10, 10])\n"
     ]
    }
   ],
   "source": [
    "import torch\n",
    "tensor = torch.randn(10, 10)\n",
    "tensor = torch.nn.Parameter(tensor)\n",
    "\n",
    "print(tensor.shape)"
   ]
  },
  {
   "cell_type": "code",
   "execution_count": 13,
   "metadata": {},
   "outputs": [
    {
     "name": "stdout",
     "output_type": "stream",
     "text": [
      "('0', Conv2d(64, 64, kernel_size=(7, 7), stride=(2, 2), padding=(3, 3), bias=False))\n",
      "('1', Conv2d(64, 64, kernel_size=(7, 7), stride=(2, 2), padding=(3, 3), bias=False))\n",
      "('2', Conv2d(64, 64, kernel_size=(7, 7), stride=(2, 2), padding=(3, 3), bias=False))\n",
      "Conv2d(1, 64, kernel_size=(7, 7), stride=(2, 2), padding=(3, 3), bias=False)\n"
     ]
    }
   ],
   "source": [
    "import torch\n",
    "import torchvision\n",
    "\n",
    "class Model(torch.nn.Module):\n",
    "    def __init__(self) -> None:\n",
    "        super().__init__()\n",
    "        conv1 = torch.nn.Conv2d(64, 64, kernel_size=7, stride=2, padding=3, bias=False)\n",
    "        conv2 = torch.nn.Conv2d(64, 64, kernel_size=7, stride=2, padding=3, bias=False)\n",
    "        conv3 = torch.nn.Conv2d(64, 64, kernel_size=7, stride=2, padding=3, bias=False)\n",
    "        self.mix = torch.nn.ModuleList([conv1, conv2, conv3])\n",
    "\n",
    "model = Model()\n",
    "fc_params_id = list(map(id, model.modules()))\n",
    "#print(model.modules())\n",
    "\n",
    "for i in model.mix.named_children():\n",
    "    print(i)\n",
    "\n",
    "def _set_module(model, submodule_key, module):\n",
    "    tokens = submodule_key.split('.')\n",
    "    sub_tokens = tokens[:-1]\n",
    "    cur_mod = model\n",
    "    for s in sub_tokens:\n",
    "        cur_mod = getattr(cur_mod, s)\n",
    "    setattr(cur_mod, tokens[-1], module)\n",
    "\n",
    "conv1 = torch.nn.Conv2d(1, 64, kernel_size=7, stride=2, padding=3, bias=False)\n",
    "\n",
    "for n, m in model.named_modules():\n",
    "    if '2' in n:\n",
    "        _set_module(model, n, conv1)\n",
    "\n",
    "print(model.get_submodule('mix.2'))"
   ]
  },
  {
   "cell_type": "code",
   "execution_count": 12,
   "metadata": {},
   "outputs": [
    {
     "name": "stdout",
     "output_type": "stream",
     "text": [
      "[['linear1'], ['linear2'], ['linear3']]\n",
      "0 linear1\n",
      "0 linear2\n",
      "0 linear3\n"
     ]
    }
   ],
   "source": [
    "import torch\n",
    "import torch.nn as nn\n",
    "\n",
    "\n",
    "class MLP(nn.Module):\n",
    "\n",
    "    def __init__(self, num_in, num_hidden, num_out, seed=None):\n",
    "        super().__init__()\n",
    "        dropout_rate = 0.2\n",
    "        self.dropout1 = nn.Dropout(p=dropout_rate)\n",
    "        self.dropout2 = nn.Dropout(p=dropout_rate)\n",
    "\n",
    "        self.linear1 = nn.Linear(num_in, num_hidden)\n",
    "        self.linear2 = nn.Linear(num_hidden, num_hidden)\n",
    "        self.linear3 = nn.Linear(num_hidden, num_out)\n",
    "\n",
    "        self.sequential_module = nn.Sequential(\n",
    "            nn.Linear(num_hidden, num_hidden),\n",
    "            nn.ReLU(),\n",
    "            nn.Dropout(p=0.2),\n",
    "        )\n",
    "\n",
    "        self.relu = nn.ReLU()\n",
    "\n",
    "        self.softmax = nn.Softmax(dim=1)\n",
    "\n",
    "    def forward(self, x):\n",
    "        x = self.relu(self.linear1(x))\n",
    "        x = self.dropout1(x)\n",
    "\n",
    "        x = self.relu(self.linear2(x))\n",
    "        x = self.dropout2(x)\n",
    "\n",
    "        x = self.sequential_module(x)\n",
    "\n",
    "        x = self.softmax(self.linear3(x))\n",
    "\n",
    "        return x\n",
    "\n",
    "\n",
    "\n",
    "# print(torch.__version__)\n",
    "\n",
    "model = MLP(num_in=2, num_hidden=16, num_out=3)\n",
    "# print(model)\n",
    "# print(\"\\n\")\n",
    "\n",
    "relu_lst = [k.split('.') for k, m in model.named_modules(remove_duplicate=False) if 'linear' in k]\n",
    "print(relu_lst)\n",
    "for *parent, k in relu_lst:\n",
    "    print(len(parent), k)\n",
    "    if len(parent) == 0:\n",
    "        model.relu = nn.Softplus()\n",
    "    else:\n",
    "        model.get_submodule('.'.join(parent))[int(k)] = nn.Softplus()\n"
   ]
  }
 ],
 "metadata": {
  "kernelspec": {
   "display_name": "pytorch",
   "language": "python",
   "name": "python3"
  },
  "language_info": {
   "codemirror_mode": {
    "name": "ipython",
    "version": 3
   },
   "file_extension": ".py",
   "mimetype": "text/x-python",
   "name": "python",
   "nbconvert_exporter": "python",
   "pygments_lexer": "ipython3",
   "version": "3.8.15 | packaged by conda-forge | (default, Nov 22 2022, 08:49:35) \n[GCC 10.4.0]"
  },
  "orig_nbformat": 4,
  "vscode": {
   "interpreter": {
    "hash": "225b954b04ff71a4e7f3ebd4997bd511ef4b566637ad554feaa6403c6bffc147"
   }
  }
 },
 "nbformat": 4,
 "nbformat_minor": 2
}
