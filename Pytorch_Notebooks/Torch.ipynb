{
 "cells": [
  {
   "cell_type": "code",
   "execution_count": 3,
   "metadata": {},
   "outputs": [
    {
     "name": "stdout",
     "output_type": "stream",
     "text": [
      "tensor.shape:torch.Size([3, 4]), tensor.dtype:torch.float32, tensor.device:cpu\n"
     ]
    }
   ],
   "source": [
    "#生成/转换/仿制\n",
    "import torch\n",
    "import numpy as np\n",
    "\n",
    "data = [[1, 2],[3, 4]]\n",
    "np_data = np.array(data)\n",
    "t_data  = torch.tensor(data)\n",
    "\n",
    "tensor = torch.rand(3, 4)\n",
    "print(f\"tensor.shape:{tensor.shape}, tensor.dtype:{tensor.dtype}, tensor.device:{tensor.device}\")\n",
    "\n",
    "np2t = torch.from_numpy(np_data)\n",
    "x_ones = torch.ones_like(np2t)                    # retains the properties of x_data\n",
    "x_rand = torch.rand_like(np2t, dtype=torch.float) # overrides the datatype of x_data"
   ]
  },
  {
   "cell_type": "code",
   "execution_count": 17,
   "metadata": {},
   "outputs": [
    {
     "name": "stdout",
     "output_type": "stream",
     "text": [
      "tensor([[1., 0., 1., 1., 1., 1., 1., 1., 1., 1.],\n",
      "        [1., 0., 1., 1., 1., 1., 1., 1., 1., 1.]])\n"
     ]
    }
   ],
   "source": [
    "#行列操作\n",
    "tensor = torch.ones(2, 10)\n",
    "tensor[:,1] = 0\n",
    "print(tensor)"
   ]
  },
  {
   "cell_type": "code",
   "execution_count": 5,
   "metadata": {},
   "outputs": [
    {
     "data": {
      "text/plain": [
       "(tensor([0, 1, 2]),\n",
       " tensor([3, 4, 5]),\n",
       " tensor([6, 7, 8]),\n",
       " tensor([ 9, 10, 11]),\n",
       " tensor([12]))"
      ]
     },
     "execution_count": 5,
     "metadata": {},
     "output_type": "execute_result"
    }
   ],
   "source": [
    "import torch; torch.arange(13).chunk(6)"
   ]
  },
  {
   "cell_type": "code",
   "execution_count": 22,
   "metadata": {},
   "outputs": [
    {
     "name": "stdout",
     "output_type": "stream",
     "text": [
      "x.mul(y)      :tensor([6., 6., 6., 6.])\n",
      "x * y         :tensor([6., 6., 6., 6.])\n",
      "x.matmul(y.T) :tensor([12., 12., 12., 12.])\n",
      "x.mm(y)       :tensor([12., 12., 12., 12.])\n",
      "x @ y.T       :tensor([12., 12., 12., 12.])\n"
     ]
    }
   ],
   "source": [
    "#运算\n",
    "x = torch.ones((2, 2)) * 2\n",
    "y = torch.ones((2, 2)) * 3\n",
    "print(f\"x.mul(y)      :{x.mul(y).flatten()}\")      # This computes the element-wise product\n",
    "print(f\"x * y         :{(x * y).flatten()}\")       # Alternative syntax\n",
    "print(f\"x.matmul(y.T) :{x.matmul(y.T).flatten()}\") # Alternative syntax:\n",
    "print(f\"x.mm(y)       :{(x.mm(y.T).flatten())}\")\n",
    "print(f\"x @ y.T       :{(x @ y.T).flatten()}\")\n"
   ]
  },
  {
   "cell_type": "code",
   "execution_count": 16,
   "metadata": {},
   "outputs": [
    {
     "name": "stdout",
     "output_type": "stream",
     "text": [
      "tensor([1., 1., 1., 1., 1., 1., 1., 1., 1., 1., 1., 1., 1., 1., 1., 1.])\n",
      "tensor([5., 5., 5., 5., 5., 5., 5., 5., 5., 5., 5., 5., 5., 5., 5., 5.])\n"
     ]
    }
   ],
   "source": [
    "tensor = torch.ones(4, 4)\n",
    "print(tensor.flatten())\n",
    "tensor.mul_(5)\n",
    "print(tensor.flatten())"
   ]
  },
  {
   "cell_type": "code",
   "execution_count": 19,
   "metadata": {},
   "outputs": [
    {
     "name": "stdout",
     "output_type": "stream",
     "text": [
      "t: tensor([1., 1., 1., 1., 1., 1., 1., 1., 1., 1.])\n",
      "t: tensor([0., 1., 1., 1., 1., 1., 1., 1., 1., 1.])\n"
     ]
    }
   ],
   "source": [
    "# [Attention]: Tensors on the CPU and NumPy arrays can share their underlying memory locations, \n",
    "# and changing one will change the other.\n",
    "t = torch.ones(10)\n",
    "print(f\"t: {t}\")\n",
    "n = t.numpy()\n",
    "n[0] = 0\n",
    "print(f\"t: {t}\")"
   ]
  },
  {
   "cell_type": "code",
   "execution_count": 26,
   "metadata": {},
   "outputs": [
    {
     "name": "stdout",
     "output_type": "stream",
     "text": [
      "tensor(0.0200) tensor(0.0200)\n"
     ]
    }
   ],
   "source": [
    "#random init tensor\n",
    "from timm.models.layers import trunc_normal_\n",
    "x = torch.zeros((1, 3, 255, 255))\n",
    "trunc_normal_(x, mean=.02, std=.02)\n",
    "print(torch.mean(x), torch.std(x))"
   ]
  },
  {
   "cell_type": "code",
   "execution_count": null,
   "metadata": {},
   "outputs": [],
   "source": [
    "import torch\n",
    "x = torch.zeros(4,4,4,4,4)\n",
    "i = torch.ones(100, dtype=torch.long)\n",
    "j = torch.ones(100, dtype=torch.long)\n",
    "print(x[i][j].shape)"
   ]
  },
  {
   "cell_type": "code",
   "execution_count": null,
   "metadata": {},
   "outputs": [],
   "source": [
    "x = torch.arange(0, 4).reshape(2, 2)\n",
    "i = torch.zeros(2000, dtype=torch.long)\n",
    "print(x)\n",
    "print(x[0])\n",
    "print(x[i])\n",
    "print(x[i].shape)\n",
    "#[169, 3] --> [2401, 3] --> [49, 49, 3]"
   ]
  },
  {
   "cell_type": "code",
   "execution_count": 7,
   "metadata": {},
   "outputs": [
    {
     "ename": "RuntimeError",
     "evalue": "Storage size calculation overflowed with sizes=[13, 12, 13, 12, 13, 12, 13, 12, 13, 12, 13, 12, 13, 12, 13, 12, 13, 12, 13, 12, 13, 12, 13, 12, 13, 12]",
     "output_type": "error",
     "traceback": [
      "\u001b[0;31m---------------------------------------------------------------------------\u001b[0m",
      "\u001b[0;31mRuntimeError\u001b[0m                              Traceback (most recent call last)",
      "Cell \u001b[0;32mIn[7], line 3\u001b[0m\n\u001b[1;32m      1\u001b[0m \u001b[39mimport\u001b[39;00m \u001b[39mtorch\u001b[39;00m\n\u001b[1;32m      2\u001b[0m w_size \u001b[39m=\u001b[39m \u001b[39m7\u001b[39m; num_heads \u001b[39m=\u001b[39m \u001b[39m12\u001b[39m\n\u001b[0;32m----> 3\u001b[0m torch\u001b[39m.\u001b[39;49mzeros((\u001b[39m2\u001b[39;49m \u001b[39m*\u001b[39;49m w_size \u001b[39m-\u001b[39;49m \u001b[39m1\u001b[39;49m) \u001b[39m*\u001b[39;49m (\u001b[39m2\u001b[39;49m \u001b[39m*\u001b[39;49m w_size \u001b[39m-\u001b[39;49m \u001b[39m1\u001b[39;49m, num_heads))\n",
      "\u001b[0;31mRuntimeError\u001b[0m: Storage size calculation overflowed with sizes=[13, 12, 13, 12, 13, 12, 13, 12, 13, 12, 13, 12, 13, 12, 13, 12, 13, 12, 13, 12, 13, 12, 13, 12, 13, 12]"
     ]
    }
   ],
   "source": [
    "import torch\n",
    "w_size = 7; num_heads = 12\n",
    "# torch.zeros((2 * w_size - 1) * (2 * w_size - 1, num_heads))"
   ]
  }
 ],
 "metadata": {
  "kernelspec": {
   "display_name": "swint",
   "language": "python",
   "name": "python3"
  },
  "language_info": {
   "codemirror_mode": {
    "name": "ipython",
    "version": 3
   },
   "file_extension": ".py",
   "mimetype": "text/x-python",
   "name": "python",
   "nbconvert_exporter": "python",
   "pygments_lexer": "ipython3",
   "version": "3.9.15"
  },
  "orig_nbformat": 4,
  "vscode": {
   "interpreter": {
    "hash": "af1ef7c2422b98f0aa0eb8c8ba68e52bc5e98ee3d10707544ebeb5411de3d7d9"
   }
  }
 },
 "nbformat": 4,
 "nbformat_minor": 2
}
