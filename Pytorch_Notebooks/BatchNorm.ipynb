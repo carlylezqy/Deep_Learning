{
 "cells": [
  {
   "cell_type": "code",
   "execution_count": 3,
   "source": [
    "import torch\n",
    "import torch.nn.functional as F\n",
    "from torch.autograd import Variable"
   ],
   "outputs": [],
   "metadata": {}
  },
  {
   "cell_type": "code",
   "execution_count": 4,
   "source": [
    "x = torch.rand(100, 16, 784)\n",
    "\n",
    "layer = torch.nn.BatchNorm1d(16)\n",
    "out = layer(x)\n",
    "\n",
    "print(layer.running_mean)\n",
    "print(layer.running_var)\n",
    "\n",
    "print(out.max(), out.min())"
   ],
   "outputs": [
    {
     "output_type": "stream",
     "name": "stdout",
     "text": [
      "tensor([0.0501, 0.0498, 0.0500, 0.0499, 0.0500, 0.0502, 0.0501, 0.0499, 0.0501,\n",
      "        0.0502, 0.0501, 0.0498, 0.0501, 0.0501, 0.0500, 0.0501])\n",
      "tensor([0.9084, 0.9083, 0.9083, 0.9083, 0.9083, 0.9084, 0.9083, 0.9083, 0.9084,\n",
      "        0.9083, 0.9084, 0.9084, 0.9083, 0.9083, 0.9083, 0.9084])\n",
      "tensor(1.7371, grad_fn=<MaxBackward1>) tensor(-1.7396, grad_fn=<MinBackward1>)\n"
     ]
    }
   ],
   "metadata": {}
  },
  {
   "cell_type": "code",
   "execution_count": 5,
   "source": [
    "##2D\n",
    "x = torch.rand(1, 16, 7, 7)\n",
    "layer = torch.nn.BatchNorm2d(16)\n",
    "out = layer(x)\n",
    "\n",
    "print(layer.weight, layer.bias)\n",
    "\n",
    "#print(vars(layer))\n",
    "layer.eval()\n"
   ],
   "outputs": [
    {
     "output_type": "stream",
     "name": "stdout",
     "text": [
      "Parameter containing:\n",
      "tensor([1., 1., 1., 1., 1., 1., 1., 1., 1., 1., 1., 1., 1., 1., 1., 1.],\n",
      "       requires_grad=True) Parameter containing:\n",
      "tensor([0., 0., 0., 0., 0., 0., 0., 0., 0., 0., 0., 0., 0., 0., 0., 0.],\n",
      "       requires_grad=True)\n"
     ]
    },
    {
     "output_type": "execute_result",
     "data": {
      "text/plain": [
       "BatchNorm2d(16, eps=1e-05, momentum=0.1, affine=True, track_running_stats=True)"
      ]
     },
     "metadata": {},
     "execution_count": 5
    }
   ],
   "metadata": {}
  }
 ],
 "metadata": {
  "orig_nbformat": 4,
  "language_info": {
   "name": "python",
   "version": "3.8.5",
   "mimetype": "text/x-python",
   "codemirror_mode": {
    "name": "ipython",
    "version": 3
   },
   "pygments_lexer": "ipython3",
   "nbconvert_exporter": "python",
   "file_extension": ".py"
  },
  "kernelspec": {
   "name": "python3",
   "display_name": "Python 3.8.5 64-bit ('pytorch': conda)"
  },
  "interpreter": {
   "hash": "a42b8a4ce736dd2c66ea1ce99679337c817483d455444cad7938dc0dfa14ebe2"
  }
 },
 "nbformat": 4,
 "nbformat_minor": 2
}