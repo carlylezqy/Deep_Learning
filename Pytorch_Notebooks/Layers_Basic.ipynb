{
 "cells": [
  {
   "cell_type": "markdown",
   "source": [
    "squential"
   ],
   "metadata": {}
  },
  {
   "cell_type": "code",
   "execution_count": 2,
   "source": [
    "import torch\n",
    "\n",
    "model = torch.nn.Sequential(\n",
    "    torch.nn.Conv2d(1, 20, 5),\n",
    "    torch.nn.ReLU(),\n",
    "    torch.nn.Conv2d(20, 64, 5),\n",
    "    torch.nn.ReLU()\n",
    ")\n",
    "\n",
    "model.add_module('extra_conv1', torch.nn.Conv2d(64, 20, 5))\n",
    "model.add_module('extra_relu1', torch.nn.ReLU())\n",
    "model.add_module('extra_conv2', torch.nn.Conv2d(20, 1, 5))\n",
    "model.add_module('extra_relu2', torch.nn.ReLU())\n",
    "\n",
    "print(model)"
   ],
   "outputs": [
    {
     "output_type": "stream",
     "name": "stdout",
     "text": [
      "Sequential(\n",
      "  (0): Conv2d(1, 20, kernel_size=(5, 5), stride=(1, 1))\n",
      "  (1): ReLU()\n",
      "  (2): Conv2d(20, 64, kernel_size=(5, 5), stride=(1, 1))\n",
      "  (3): ReLU()\n",
      "  (extra_conv1): Conv2d(64, 20, kernel_size=(5, 5), stride=(1, 1))\n",
      "  (extra_relu1): ReLU()\n",
      "  (extra_conv2): Conv2d(20, 1, kernel_size=(5, 5), stride=(1, 1))\n",
      "  (extra_relu2): ReLU()\n",
      ")\n"
     ]
    }
   ],
   "metadata": {}
  }
 ],
 "metadata": {
  "orig_nbformat": 4,
  "language_info": {
   "name": "python",
   "version": "3.8.5",
   "mimetype": "text/x-python",
   "codemirror_mode": {
    "name": "ipython",
    "version": 3
   },
   "pygments_lexer": "ipython3",
   "nbconvert_exporter": "python",
   "file_extension": ".py"
  },
  "kernelspec": {
   "name": "python3",
   "display_name": "Python 3.8.5 64-bit ('pytorch': conda)"
  },
  "interpreter": {
   "hash": "a42b8a4ce736dd2c66ea1ce99679337c817483d455444cad7938dc0dfa14ebe2"
  }
 },
 "nbformat": 4,
 "nbformat_minor": 2
}