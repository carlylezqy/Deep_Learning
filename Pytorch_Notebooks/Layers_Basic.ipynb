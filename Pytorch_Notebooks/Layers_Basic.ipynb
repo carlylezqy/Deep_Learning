{
 "cells": [
  {
   "cell_type": "markdown",
   "metadata": {},
   "source": [
    "squential"
   ]
  },
  {
   "cell_type": "code",
   "execution_count": null,
   "metadata": {},
   "outputs": [],
   "source": [
    "import torch\n",
    "class Model(torch.nn.Module):\n",
    "    def __init__(self) -> None:\n",
    "        super().__init__()\n",
    "        self.register_buffer(\"demo_tensor\", torch.tensor([[0, 1, 2], [3, 4, 5], [6, 7, 8]]))\n",
    "    def forward(self, x):\n",
    "        print(self.demo_tensor)\n",
    "        return x\n",
    "\n",
    "x = torch.randn(1, 3, 256, 256)\n",
    "model = Model()\n",
    "print(model(x).shape)"
   ]
  },
  {
   "cell_type": "code",
   "execution_count": 2,
   "metadata": {},
   "outputs": [
    {
     "name": "stdout",
     "output_type": "stream",
     "text": [
      "Sequential(\n",
      "  (0): Conv2d(1, 20, kernel_size=(5, 5), stride=(1, 1))\n",
      "  (1): ReLU()\n",
      "  (2): Conv2d(20, 64, kernel_size=(5, 5), stride=(1, 1))\n",
      "  (3): ReLU()\n",
      "  (extra_conv1): Conv2d(64, 20, kernel_size=(5, 5), stride=(1, 1))\n",
      "  (extra_relu1): ReLU()\n",
      "  (extra_conv2): Conv2d(20, 1, kernel_size=(5, 5), stride=(1, 1))\n",
      "  (extra_relu2): ReLU()\n",
      ")\n"
     ]
    }
   ],
   "source": [
    "import torch\n",
    "\n",
    "model = torch.nn.Sequential(\n",
    "    torch.nn.Conv2d(1, 20, 5),\n",
    "    torch.nn.ReLU(),\n",
    "    torch.nn.Conv2d(20, 64, 5),\n",
    "    torch.nn.ReLU()\n",
    ")\n",
    "\n",
    "model.add_module('extra_conv1', torch.nn.Conv2d(64, 20, 5))\n",
    "model.add_module('extra_relu1', torch.nn.ReLU())\n",
    "model.add_module('extra_conv2', torch.nn.Conv2d(20, 1, 5))\n",
    "model.add_module('extra_relu2', torch.nn.ReLU())\n",
    "\n",
    "print(model)"
   ]
  }
 ],
 "metadata": {
  "interpreter": {
   "hash": "a42b8a4ce736dd2c66ea1ce99679337c817483d455444cad7938dc0dfa14ebe2"
  },
  "kernelspec": {
   "display_name": "Python 3.8.5 64-bit ('pytorch': conda)",
   "name": "python3"
  },
  "language_info": {
   "codemirror_mode": {
    "name": "ipython",
    "version": 3
   },
   "file_extension": ".py",
   "mimetype": "text/x-python",
   "name": "python",
   "nbconvert_exporter": "python",
   "pygments_lexer": "ipython3",
   "version": "3.8.5"
  },
  "orig_nbformat": 4
 },
 "nbformat": 4,
 "nbformat_minor": 2
}
