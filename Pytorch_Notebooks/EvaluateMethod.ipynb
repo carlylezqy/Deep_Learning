{
 "cells": [
  {
   "cell_type": "code",
   "execution_count": 29,
   "metadata": {},
   "outputs": [
    {
     "name": "stdout",
     "output_type": "stream",
     "text": [
      "torch.Size([1, 256, 256]) torch.Size([1, 3, 256, 256])\n",
      "tensor(1.3909)\n"
     ]
    }
   ],
   "source": [
    "import torch\n",
    "import numpy as np\n",
    "\n",
    "classes = 3\n",
    "y_pred = torch.randn(1, classes, 256, 256)\n",
    "prob_mask = y_pred.sigmoid()\n",
    "pred_mask = (prob_mask > 0.5).float()\n",
    "\n",
    "y = torch.randint(0, classes, size=(1, 256, 256))\n",
    "\n",
    "criterion = torch.nn.CrossEntropyLoss()\n",
    "\n",
    "print(y.shape, y_pred.shape)\n",
    "\n",
    "loss = criterion(y_pred, y.long())\n",
    "print(loss)\n"
   ]
  },
  {
   "cell_type": "code",
   "execution_count": 34,
   "metadata": {},
   "outputs": [
    {
     "name": "stdout",
     "output_type": "stream",
     "text": [
      "tensor(0.3348)\n"
     ]
    }
   ],
   "source": [
    "#多分类平均准确率\n",
    "import torch\n",
    "import numpy as np\n",
    "\n",
    "classes = 3\n",
    "y_pred = torch.randn(1, classes, 256, 256)\n",
    "prob_mask = y_pred.sigmoid()\n",
    "pred_mask = (prob_mask > 0.5).float()\n",
    "\n",
    "pred_value = pred_mask.data.max(dim=1)[1]\n",
    "y = torch.randint(0, classes, size=(1, 256, 256))\n",
    "\n",
    "mean_accuracy = ((pred_value.data == y.data).float().mean())\n",
    "print(mean_accuracy)\n",
    "# Y_prediction = hypothesis.data.max(dim=1)[1]\n",
    "# accuracy = ((Y_prediction.data == Y_target.data).float().mean())    \n",
    "# accuracy.item()\n",
    "\n",
    "# mean_accuracy = "
   ]
  },
  {
   "cell_type": "code",
   "execution_count": null,
   "metadata": {},
   "outputs": [],
   "source": [
    "classes = 3\n",
    "y_pred = torch.randn(1, classes, 256, 256)\n",
    "prob_mask = y_pred.sigmoid()\n",
    "pred_mask = (prob_mask > 0.5).float()\n",
    "\n",
    "pred_value = pred_mask.data.max(dim=1)[1]\n",
    "y = torch.randint(0, classes, size=(1, 256, 256))"
   ]
  }
 ],
 "metadata": {
  "interpreter": {
   "hash": "225b954b04ff71a4e7f3ebd4997bd511ef4b566637ad554feaa6403c6bffc147"
  },
  "kernelspec": {
   "display_name": "Python 3.9.7 ('pytorch': conda)",
   "language": "python",
   "name": "python3"
  },
  "language_info": {
   "codemirror_mode": {
    "name": "ipython",
    "version": 3
   },
   "file_extension": ".py",
   "mimetype": "text/x-python",
   "name": "python",
   "nbconvert_exporter": "python",
   "pygments_lexer": "ipython3",
   "version": "3.9.12"
  },
  "orig_nbformat": 4
 },
 "nbformat": 4,
 "nbformat_minor": 2
}
