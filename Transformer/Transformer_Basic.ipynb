{
 "cells": [
  {
   "cell_type": "code",
   "execution_count": 1,
   "metadata": {},
   "outputs": [
    {
     "name": "stderr",
     "output_type": "stream",
     "text": [
      "/home/akiyo/miniconda3/envs/sandbox/lib/python3.9/site-packages/tqdm/auto.py:22: TqdmWarning: IProgress not found. Please update jupyter and ipywidgets. See https://ipywidgets.readthedocs.io/en/stable/user_install.html\n",
      "  from .autonotebook import tqdm as notebook_tqdm\n"
     ]
    },
    {
     "name": "stdout",
     "output_type": "stream",
     "text": [
      "torch.Size([8, 196, 768])\n",
      "torch.Size([8, 196, 768])\n",
      "Is equal:  False\n"
     ]
    }
   ],
   "source": [
    "# PatchEmbeddings\n",
    "import torch\n",
    "torch.manual_seed(43)\n",
    "class PatchEmbeddings(torch.nn.Module):\n",
    "    def __init__(self, img_size=224, patch_size=16, in_chans=3, embed_dim=768):\n",
    "        super().__init__()\n",
    "        self.img_tuple, self.patch_tuple = (img_size, img_size), (patch_size, patch_size)\n",
    "        \n",
    "        self.num_patches = (img_size // patch_size) * (img_size // patch_size)\n",
    "        self.embed_dim = in_chans * patch_size * patch_size\n",
    "        \n",
    "        self.proj = torch.nn.Conv2d(in_chans, self.embed_dim, kernel_size=patch_size, stride=patch_size)\n",
    "\n",
    "    def forward(self, x):\n",
    "        B, C, H, W = x.shape\n",
    "        assert H == self.img_tuple[0] and W == self.img_tuple[1], \\\n",
    "        f\"Input image size ({H}*{W}) doesn't match model ({self.img_tuple[0]}*{self.img_tuple[1]}).\"\n",
    "        a = self.proj(x)      #torch.Size([8, 768, 14, 14])\n",
    "        b = a.flatten(2)      #torch.Size([8, 768, 196])\n",
    "        c = b.transpose(1, 2) #torch.Size([8, 196, 768])\n",
    "        return c\n",
    "\n",
    "sample_input = torch.randn(8, 3, 224, 224)\n",
    "patch_embed = PatchEmbeddings(img_size=224, patch_size=16, in_chans=3, embed_dim=768)\n",
    "output1 = patch_embed(sample_input)\n",
    "print(output1.shape)  \n",
    "\n",
    "\"\"\"                  B  C   H    W\n",
    "INPUT:   torch.Size([8, 3, 224, 224])\n",
    "                     B P^2 Embed Dim\n",
    "OUTPUT1: torch.Size([8, 196, 768])\n",
    "\n",
    "A: OUTPUT --> Concatenate Positional Embeddings --> B: torch.Size([8, 197, 768])\n",
    "C: Positional Embeddings torch.Size([8, 197, 768])\n",
    "B + C = Combined Embeddings torch.Size([8, 197, 768])\n",
    "\"\"\"\n",
    "\n",
    "from timm.models.layers import PatchEmbed\n",
    "patch_embed = PatchEmbed(img_size=224, patch_size=16, in_chans=3, embed_dim=768, bias=False)\n",
    "output2 = patch_embed(sample_input)\n",
    "print(output2.shape)\n",
    "\n",
    "print(\"Is equal: \", torch.equal(output1, output2))"
   ]
  },
  {
   "cell_type": "code",
   "execution_count": 2,
   "metadata": {},
   "outputs": [
    {
     "name": "stdout",
     "output_type": "stream",
     "text": [
      "INPUT:  torch.Size([8, 197, 768])\n",
      "OUTPUT: torch.Size([8, 197, 768])\n"
     ]
    }
   ],
   "source": [
    "# Attention Layer\n",
    "import torch\n",
    "from einops import rearrange\n",
    "class Attention(torch.nn.Module):\n",
    "    def __init__(self, dim, heads=8, dim_head=64):\n",
    "        super().__init__()\n",
    "        inner_dim = heads * dim_head \n",
    "        self.heads = heads\n",
    "        self.scale = dim_head ** -0.5\n",
    "        self.norm   = torch.nn.LayerNorm(dim)\n",
    "\n",
    "        self.softmax = torch.nn.Softmax(dim=-1)\n",
    "\n",
    "        self.to_qkv = torch.nn.Linear(dim, inner_dim*3, bias=False)\n",
    "        self.to_out = torch.nn.Linear(inner_dim, dim, bias=False)\n",
    "\n",
    "    def forward(self, x):\n",
    "        \"\"\"\n",
    "        INPUT:  torch.Size([8, 197, 768])\n",
    "        dim=768, heads=8, dim_head=64\n",
    "                            b   n   h*d*3\n",
    "        to_qkv: torch.Size([8, 197, 1536])\n",
    "                                     h*d\n",
    "        chunk:  torch.Size([8, 197,  512]) * 3]\n",
    "        \"\"\"\n",
    "        x = self.norm(x)\n",
    "        qkv = self.to_qkv(x)\n",
    "        qkv = qkv.chunk(3, dim=-1)\n",
    "        q, k, v = map(lambda t: rearrange(t, 'b n (h d) -> b h n d', h=self.heads), qkv)\n",
    "        \n",
    "        dots = torch.matmul(q, k.transpose(-1, -2)) * self.scale\n",
    "        attn = self.softmax(dots)\n",
    "\n",
    "        out = torch.matmul(attn, v)\n",
    "        out = rearrange(out, 'b h n d -> b n (h d)')\n",
    "        return self.to_out(out)\n",
    "\n",
    "attention = Attention(768)\n",
    "x = torch.randn(8, 197, 768)\n",
    "output = attention(x)\n",
    "print(f\"INPUT:  {x.shape}\\nOUTPUT: {output.shape}\")"
   ]
  },
  {
   "cell_type": "code",
   "execution_count": 3,
   "metadata": {},
   "outputs": [
    {
     "name": "stdout",
     "output_type": "stream",
     "text": [
      "INPUT:  torch.Size([8, 197, 768])\n",
      "OUTPUT: torch.Size([8, 197, 768])\n"
     ]
    }
   ],
   "source": [
    "# FeedForward Layer\n",
    "import torch\n",
    "class FeedForward(torch.nn.Module):\n",
    "    def __init__(self, dim, hidden_dim):\n",
    "        super().__init__()\n",
    "        self.net = torch.nn.Sequential(\n",
    "            torch.nn.LayerNorm(dim),\n",
    "            torch.nn.Linear(dim, hidden_dim),\n",
    "            torch.nn.GELU(),\n",
    "            torch.nn.Linear(hidden_dim, dim),\n",
    "        )\n",
    "    def forward(self, x):\n",
    "        return self.net(x)\n",
    "\n",
    "x = torch.randn(8, 197, 768)\n",
    "ff = FeedForward(768, 3072)\n",
    "output = ff(x)\n",
    "print(f\"INPUT:  {x.shape}\\nOUTPUT: {output.shape}\")"
   ]
  },
  {
   "cell_type": "code",
   "execution_count": 4,
   "metadata": {},
   "outputs": [
    {
     "name": "stdout",
     "output_type": "stream",
     "text": [
      "INPUT:  torch.Size([8, 197, 768])\n",
      "OUTPUT: torch.Size([8, 197, 768])\n"
     ]
    }
   ],
   "source": [
    "# Transformer Layer\n",
    "import torch\n",
    "class Transformer(torch.nn.Module):\n",
    "    def __init__(self, dim, depth, heads, dim_head, mlp_dim):\n",
    "        super().__init__()\n",
    "        self.transformer_layers = torch.nn.ModuleList([])\n",
    "        for _ in range(depth):\n",
    "            self.transformer_layers.append(\n",
    "                torch.nn.ModuleList([\n",
    "                    Attention(dim, heads = heads, dim_head = dim_head),\n",
    "                    FeedForward(dim, mlp_dim)\n",
    "                ])\n",
    "            )\n",
    "    def forward(self, x):\n",
    "        for attn, ff in self.transformer_layers:\n",
    "            x = attn(x) + x\n",
    "            x = ff(x) + x\n",
    "        return x\n",
    "\n",
    "x = torch.randn(8, 197, 768)\n",
    "transformer = Transformer(768, 12, 8, 64, 3072)\n",
    "output = transformer(x)\n",
    "print(f\"INPUT:  {x.shape}\\nOUTPUT: {output.shape}\")"
   ]
  },
  {
   "cell_type": "markdown",
   "metadata": {},
   "source": [
    "# Swin Transformer"
   ]
  },
  {
   "cell_type": "code",
   "execution_count": 5,
   "metadata": {},
   "outputs": [
    {
     "name": "stdout",
     "output_type": "stream",
     "text": [
      "INPUT:  torch.Size([8, 196, 768])\n",
      "OUTPUT: torch.Size([8, 49, 1536])\n",
      "INPUT:  torch.Size([8, 196, 768])\n",
      "OUTPUT: torch.Size([8, 49, 1536])\n"
     ]
    }
   ],
   "source": [
    "# PatchMerging\n",
    "import torch\n",
    "class PatchMerging(torch.nn.Module):\n",
    "    # PatchMerging作用： 输入分辨率减半，通道数翻倍\n",
    "    # 这里的分辨率是转换成patches的分辨率，不是原图像素的分辨率\n",
    "    r\"\"\" Patch Merging Layer.\n",
    "\n",
    "    Args:\n",
    "        input_resolution (tuple[int]): Resolution of input feature.\n",
    "        dim (int): Number of input channels.\n",
    "        norm_layer (torch.nn.Module, optional): Normalization layer.  Default: nn.LayerNorm\n",
    "    \"\"\"\n",
    "\n",
    "    def __init__(self, input_resolution, dim, norm_layer=torch.nn.LayerNorm):\n",
    "        super().__init__()\n",
    "        self.input_resolution = input_resolution\n",
    "        self.dim = dim\n",
    "        self.linear_layer = torch.nn.Linear(4 * dim, 2 * dim, bias=False)\n",
    "        self.norm = norm_layer(4 * dim)\n",
    "\n",
    "    def forward(self, x):\n",
    "        \"\"\"\n",
    "        x: B, H*W, C\n",
    "        \"\"\"\n",
    "        H, W = self.input_resolution\n",
    "        B, L, C = x.shape\n",
    "        assert L == H * W, \"input feature has wrong size\"\n",
    "        assert H % 2 == 0 and W % 2 == 0, f\"x size ({H}*{W}) are not even.\"\n",
    "        \n",
    "        #B: Batch; H: Patch_Height; W: Patch_Width; C: Channel\n",
    "        x = x.view(B, H, W, C)\n",
    "\n",
    "        # 0::2 偶数  1::2 奇数\n",
    "        x0 = x[:, 0::2, 0::2, :]             # B, H/2, W/2, C\n",
    "        x1 = x[:, 1::2, 0::2, :]             # B, H/2, W/2, C\n",
    "        x2 = x[:, 0::2, 1::2, :]             # B, H/2, W/2, C\n",
    "        x3 = x[:, 1::2, 1::2, :]             # B, H/2, W/2, C\n",
    "        x = torch.cat([x0, x1, x2, x3], -1)  # B, H/2, W/2, 4*C\n",
    "        x = x.view(B, -1, 4 * C)             # B, H/2*W/2, 4*C\n",
    "\n",
    "        x = self.norm(x)\n",
    "        x = self.linear_layer(x) \n",
    "        \n",
    "        # H, W -> H/2, W/2 (image reduced by 3/4)\n",
    "        # C -> 4C -> 2C\n",
    "\n",
    "        return x\n",
    "    \n",
    "    def extra_repr(self) -> str:\n",
    "        return f\"input_resolution={self.input_resolution}, dim={self.dim}\"\n",
    "\n",
    "    def flops(self):\n",
    "        H, W = self.input_resolution\n",
    "        flops = H * W * self.dim\n",
    "        flops += (H // 2) * (W // 2) * 4 * self.dim * 2 * self.dim\n",
    "        return flops\n",
    "\n",
    "patch_size = 16\n",
    "x = torch.randn(8, 196, 768)\n",
    "patch_merging = PatchMerging((14, 14), 768)\n",
    "output = patch_merging(x)\n",
    "print(f\"INPUT:  {x.shape}\\nOUTPUT: {output.shape}\")\n",
    "\n",
    "from timm.models.swin_transformer import PatchMerging\n",
    "output2 = PatchMerging((14, 14), 768)(x)\n",
    "print(f\"INPUT:  {x.shape}\\nOUTPUT: {output2.shape}\")"
   ]
  },
  {
   "cell_type": "code",
   "execution_count": 6,
   "metadata": {},
   "outputs": [
    {
     "name": "stdout",
     "output_type": "stream",
     "text": [
      "INPUT:   torch.Size([8, 14, 14, 64])\n",
      "W_SIZE:  torch.Size([32, 7, 7, 64])\n",
      "Reverse: torch.Size([8, 14, 14, 64])\n"
     ]
    }
   ],
   "source": [
    "import torch\n",
    "def window_partition(x, w_size):\n",
    "    B, H, W, C = x.shape\n",
    "    x = x.view(B, H//w_size, w_size, W//w_size, w_size, C)\n",
    "    windows = x.permute(0,1,3,2,4,5).contiguous().view(-1, w_size, w_size, C)\n",
    "    return windows\n",
    "\n",
    "def window_reverse(windows, w_size, H, W):\n",
    "    B = int(windows.shape[0] / (H * W / w_size / w_size))\n",
    "    x = windows.view(B, H // w_size, W // w_size, w_size, w_size, -1)\n",
    "    x = x.permute(0,1,3,2,4,5).contiguous().view(B, H, W, -1)\n",
    "    return x\n",
    "\n",
    "x = torch.randn(8, 14, 14, 64)\n",
    "print(f\"INPUT:   {x.shape}\")\n",
    "windows = window_partition(x, 7)\n",
    "x = window_reverse(windows, 7, 14, 14)\n",
    "print(f\"W_SIZE:  {windows.shape}\\nReverse: {x.shape}\")\n",
    "\n",
    "\"\"\"\n",
    "INPUT  (B, H, W, C)\n",
    "OUTPUT (num_win*B, H//w_size, W//w_size, w_size, w_size, C)\n",
    "num_win = H//w_size * W//w_size\n",
    "\"\"\" if False else None"
   ]
  },
  {
   "cell_type": "code",
   "execution_count": 24,
   "metadata": {},
   "outputs": [
    {
     "name": "stdout",
     "output_type": "stream",
     "text": [
      "torch.Size([8, 49, 96])\n"
     ]
    }
   ],
   "source": [
    "#W-MSA: Windows Attention\n",
    "import torch\n",
    "from typing import Optional\n",
    "from timm.models.layers import trunc_normal_\n",
    "\n",
    "def get_relative_position_index(win_h, win_w):\n",
    "    # get pair-wise relative position index for each token inside the window\n",
    "    coords = torch.stack(torch.meshgrid([torch.arange(win_h), torch.arange(win_w)]))  # 2, Wh, Ww\n",
    "    coords_flatten = torch.flatten(coords, 1)  # 2, Wh*Ww\n",
    "    relative_coords = coords_flatten[:, :, None] - coords_flatten[:, None, :]  # 2, Wh*Ww, Wh*Ww\n",
    "    relative_coords = relative_coords.permute(1, 2, 0).contiguous()  # Wh*Ww, Wh*Ww, 2\n",
    "    relative_coords[:, :, 0] += win_h - 1  # shift to start from 0\n",
    "    relative_coords[:, :, 1] += win_w - 1\n",
    "    relative_coords[:, :, 0] *= 2 * win_w - 1\n",
    "    return relative_coords.sum(-1)  # Wh*Ww, Wh*Ww\n",
    "\n",
    "class WindowAttention(torch.nn.Module):\n",
    "    r\"\"\" Window based multi-head self attention (W-MSA) module with relative position bias.\n",
    "    It supports both of shifted and non-shifted window.\n",
    "\n",
    "    Args:\n",
    "        dim (int): Number of input channels.\n",
    "        num_heads (int): Number of attention heads.\n",
    "        head_dim (int): Number of channels per head (dim // num_heads if not set)\n",
    "        window_size (tuple[int]): The height and width of the window.\n",
    "        qkv_bias (bool, optional):  If True, add a learnable bias to query, key, value. Default: True\n",
    "        attn_drop (float, optional): Dropout ratio of attention weight. Default: 0.0\n",
    "        proj_drop (float, optional): Dropout ratio of output. Default: 0.0\n",
    "    \"\"\"\n",
    "\n",
    "    def __init__(self, dim, num_heads, head_dim=None, window_size=7, qkv_bias=True, attn_drop=0., proj_drop=0.):\n",
    "\n",
    "        super().__init__()\n",
    "        self.dim = dim\n",
    "        self.window_size = window_size  # Wh, Ww\n",
    "        win_h, win_w = self.window_size\n",
    "        self.window_area = win_h * win_w\n",
    "        self.num_heads = num_heads\n",
    "        head_dim = head_dim or dim // num_heads\n",
    "        attn_dim = head_dim * num_heads\n",
    "        self.scale = head_dim ** -0.5\n",
    "\n",
    "        # define a parameter table of relative position bias, shape: 2*Wh-1 * 2*Ww-1, nH\n",
    "        self.relative_position_bias_table = torch.nn.Parameter(torch.zeros((2 * win_h - 1) * (2 * win_w - 1), num_heads))\n",
    "\n",
    "        # get pair-wise relative position index for each token inside the window\n",
    "        self.register_buffer(\"relative_position_index\", get_relative_position_index(win_h, win_w))\n",
    "\n",
    "        self.qkv       = torch.nn.Linear(dim, attn_dim * 3, bias=qkv_bias)\n",
    "        self.attn_drop = torch.nn.Dropout(attn_drop)\n",
    "        self.proj      = torch.nn.Linear(attn_dim, dim)\n",
    "        self.proj_drop = torch.nn.Dropout(proj_drop)\n",
    "\n",
    "        trunc_normal_(self.relative_position_bias_table, std=.02)\n",
    "        self.softmax = torch.nn.Softmax(dim=-1)\n",
    "\n",
    "    def _get_rel_pos_bias(self) -> torch.Tensor:\n",
    "        relative_position_bias = self.relative_position_bias_table[\n",
    "            self.relative_position_index.view(-1)].view(self.window_area, self.window_area, -1)  # Wh*Ww,Wh*Ww,nH\n",
    "        relative_position_bias = relative_position_bias.permute(2, 0, 1).contiguous()  # nH, Wh*Ww, Wh*Ww\n",
    "        return relative_position_bias.unsqueeze(0)\n",
    "\n",
    "    def forward(self, x, mask: Optional[torch.Tensor] = None):\n",
    "        \"\"\"\n",
    "        Args:\n",
    "            x: input features with shape of (num_windows*B, N, C)\n",
    "            mask: (0/-inf) mask with shape of (num_windows, Wh*Ww, Wh*Ww) or None\n",
    "        \"\"\"\n",
    "        B_, N, C = x.shape\n",
    "        qkv = self.qkv(x).reshape(B_, N, 3, self.num_heads, -1).permute(2, 0, 3, 1, 4)\n",
    "        q, k, v = qkv.unbind(0)  # make torchscript happy (cannot use tensor as tuple)\n",
    "\n",
    "        q = q * self.scale\n",
    "        attn = (q @ k.transpose(-2, -1))\n",
    "        attn = attn + self._get_rel_pos_bias()\n",
    "\n",
    "        if mask is not None:\n",
    "            num_win = mask.shape[0]\n",
    "            attn = attn.view(B_ // num_win, num_win, self.num_heads, N, N) + mask.unsqueeze(1).unsqueeze(0)\n",
    "            attn = attn.view(-1, self.num_heads, N, N)\n",
    "            attn = self.softmax(attn)\n",
    "        else:\n",
    "            attn = self.softmax(attn)\n",
    "\n",
    "        attn = self.attn_drop(attn)\n",
    "\n",
    "        x = (attn @ v).transpose(1, 2).reshape(B_, N, -1)\n",
    "        x = self.proj(x)\n",
    "        x = self.proj_drop(x)\n",
    "        return x\n",
    "\n",
    "x = torch.randn(8, 49, 96)\n",
    "window_attention = WindowAttention(dim=96, num_heads=3, head_dim=None, window_size=(7, 7), qkv_bias=True, attn_drop=0.0, proj_drop=0.0)\n",
    "output = window_attention(x)\n",
    "print(output.shape)"
   ]
  },
  {
   "cell_type": "code",
   "execution_count": 26,
   "metadata": {},
   "outputs": [
    {
     "name": "stdout",
     "output_type": "stream",
     "text": [
      "torch.Size([8, 49, 96])\n"
     ]
    }
   ],
   "source": [
    "from timm.models.swin_transformer import WindowAttention\n",
    "\n",
    "x = torch.randn(8, 49, 96)\n",
    "window_attention = WindowAttention(dim=96, num_heads=3)\n",
    "output = window_attention(x)\n",
    "print(output.shape)"
   ]
  },
  {
   "cell_type": "code",
   "execution_count": 7,
   "metadata": {},
   "outputs": [
    {
     "name": "stdout",
     "output_type": "stream",
     "text": [
      "torch.Size([1, 10])\n"
     ]
    }
   ],
   "source": [
    "import torch\n",
    "from timm.models.swin_transformer import SwinTransformer\n",
    "\n",
    "st = SwinTransformer(img_size=448, num_classes=10)\n",
    "x = torch.randn(1, 3, 448, 448)\n",
    "output = st(x)\n",
    "print(output.shape)"
   ]
  },
  {
   "cell_type": "code",
   "execution_count": null,
   "metadata": {},
   "outputs": [],
   "source": []
  }
 ],
 "metadata": {
  "kernelspec": {
   "display_name": "Python 3.9.15 ('sandbox': conda)",
   "language": "python",
   "name": "python3"
  },
  "language_info": {
   "codemirror_mode": {
    "name": "ipython",
    "version": 3
   },
   "file_extension": ".py",
   "mimetype": "text/x-python",
   "name": "python",
   "nbconvert_exporter": "python",
   "pygments_lexer": "ipython3",
   "version": "3.9.15"
  },
  "orig_nbformat": 4,
  "vscode": {
   "interpreter": {
    "hash": "2971e7c5d8fae4f2ed799860601dc66b0a1d1ec1f1c4639204a6c28506f08f13"
   }
  }
 },
 "nbformat": 4,
 "nbformat_minor": 2
}
