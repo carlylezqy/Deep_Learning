{
 "cells": [
  {
   "cell_type": "code",
   "execution_count": 17,
   "source": [
    "from torch.utils.tensorboard import SummaryWriter\n",
    "import numpy as np"
   ],
   "outputs": [],
   "metadata": {}
  },
  {
   "cell_type": "code",
   "execution_count": 18,
   "source": [
    "with SummaryWriter() as writer:\n",
    "    for n_iter in range(100):\n",
    "        writer.add_scalar('Loss/train', np.random.random(), n_iter)\n",
    "        writer.add_scalar('Loss/test', np.random.random(), n_iter)\n",
    "        writer.add_scalar('Accuracy/train', np.random.random(), n_iter)\n",
    "        writer.add_scalar('Accuracy/test', np.random.random(), n_iter)"
   ],
   "outputs": [],
   "metadata": {}
  },
  {
   "cell_type": "code",
   "execution_count": 19,
   "source": [
    "with SummaryWriter() as writer:\n",
    "    x = range(100)\n",
    "    for i in x:\n",
    "        writer.add_scalar('y=2x', i * 2, i)"
   ],
   "outputs": [],
   "metadata": {}
  },
  {
   "cell_type": "code",
   "execution_count": 20,
   "source": [
    "with SummaryWriter() as writer:\n",
    "    r = 5\n",
    "    for i in range(100):\n",
    "        writer.add_scalars('run_14h', {'xsinx':i*np.sin(i/r), 'xcosx':i*np.cos(i/r), 'tanx': np.tan(i/r)}, i)"
   ],
   "outputs": [],
   "metadata": {}
  },
  {
   "cell_type": "code",
   "execution_count": 21,
   "source": [
    "with SummaryWriter() as writer:\n",
    "    for i in range(10):\n",
    "        x = np.random.random(1000)\n",
    "        writer.add_histogram('distribution centers', x + i, i)"
   ],
   "outputs": [],
   "metadata": {}
  },
  {
   "cell_type": "code",
   "execution_count": 22,
   "source": [
    "with SummaryWriter() as w:\n",
    "    for i in range(5):\n",
    "        w.add_hparams({'lr': 0.1*i, 'bsize': i},{'hparam/accuracy': 10*i, 'hparam/loss': 10*i})"
   ],
   "outputs": [],
   "metadata": {}
  }
 ],
 "metadata": {
  "orig_nbformat": 4,
  "language_info": {
   "name": "python",
   "version": "3.8.5",
   "mimetype": "text/x-python",
   "codemirror_mode": {
    "name": "ipython",
    "version": 3
   },
   "pygments_lexer": "ipython3",
   "nbconvert_exporter": "python",
   "file_extension": ".py"
  },
  "kernelspec": {
   "name": "python3",
   "display_name": "Python 3.8.5 64-bit ('pytorch': conda)"
  },
  "interpreter": {
   "hash": "a42b8a4ce736dd2c66ea1ce99679337c817483d455444cad7938dc0dfa14ebe2"
  }
 },
 "nbformat": 4,
 "nbformat_minor": 2
}