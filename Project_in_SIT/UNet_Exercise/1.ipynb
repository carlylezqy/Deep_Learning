{
 "cells": [
  {
   "cell_type": "code",
   "execution_count": 4,
   "metadata": {},
   "outputs": [],
   "source": [
    "import torch\n",
    "import torch.nn as nn\n",
    "import torchvision\n",
    "\n",
    "base_model = torchvision.models.resnet18(pretrained=True)\n",
    "base_model.fc = torch.nn.Linear(in_features=512, out_features=10, bias=True)\n",
    "print(base_model)\n"
   ]
  }
 ],
 "metadata": {
  "interpreter": {
   "hash": "7a0364155214586b3fd14b2993390f6681105ca96cd95f2af879879ae55d135c"
  },
  "kernelspec": {
   "display_name": "Python 3.8.13 ('pointrend': conda)",
   "language": "python",
   "name": "python3"
  },
  "language_info": {
   "codemirror_mode": {
    "name": "ipython",
    "version": 3
   },
   "file_extension": ".py",
   "mimetype": "text/x-python",
   "name": "python",
   "nbconvert_exporter": "python",
   "pygments_lexer": "ipython3",
   "version": "3.8.13"
  },
  "orig_nbformat": 4
 },
 "nbformat": 4,
 "nbformat_minor": 2
}
