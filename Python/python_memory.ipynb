{
 "cells": [
  {
   "cell_type": "code",
   "execution_count": 5,
   "metadata": {},
   "outputs": [
    {
     "name": "stdout",
     "output_type": "stream",
     "text": [
      "image1: 139915703254640\n",
      "image2: 139915703254640\n",
      "image3: 139915703253392\n",
      "image4: 139915703253968\n",
      "image2 - image1: 0\n",
      "image3 - image2: -1248\n",
      "image4 - image2: -672\n",
      "image4 - image3: 576\n"
     ]
    }
   ],
   "source": [
    "import cv2\n",
    "\n",
    "image1 = cv2.imread('/home/akiyo/nfs/zhang/dataset/image/bear.jpg')\n",
    "\n",
    "image2 = image1\n",
    "image3 = image1.copy()\n",
    "image3 = image1[...,::-1]\n",
    "image4 = image1[...,::-1].copy()\n",
    "\n",
    "address = lambda x: id(x)\n",
    "\n",
    "print(f\"image1: {address(image1)}\")\n",
    "print(f\"image2: {address(image2)}\")\n",
    "print(f\"image3: {address(image3)}\")\n",
    "print(f\"image4: {address(image4)}\")\n",
    "\n",
    "\n",
    "print(f\"image2 - image1: {address(image2) - address(image1)}\")\n",
    "print(f\"image3 - image2: {address(image3) - address(image1)}\")\n",
    "print(f\"image4 - image2: {address(image4) - address(image1)}\")\n",
    "print(f\"image4 - image3: {address(image4) - address(image3)}\")"
   ]
  }
 ],
 "metadata": {
  "kernelspec": {
   "display_name": "swint",
   "language": "python",
   "name": "python3"
  },
  "language_info": {
   "codemirror_mode": {
    "name": "ipython",
    "version": 3
   },
   "file_extension": ".py",
   "mimetype": "text/x-python",
   "name": "python",
   "nbconvert_exporter": "python",
   "pygments_lexer": "ipython3",
   "version": "3.8.15"
  },
  "orig_nbformat": 4,
  "vscode": {
   "interpreter": {
    "hash": "af1ef7c2422b98f0aa0eb8c8ba68e52bc5e98ee3d10707544ebeb5411de3d7d9"
   }
  }
 },
 "nbformat": 4,
 "nbformat_minor": 2
}
