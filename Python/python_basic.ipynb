{
 "cells": [
  {
   "cell_type": "code",
   "execution_count": 1,
   "metadata": {},
   "outputs": [
    {
     "name": "stdout",
     "output_type": "stream",
     "text": [
      "__enter__\n",
      "Send Sample back\n",
      "__exit__\n"
     ]
    }
   ],
   "source": [
    "class Sample:\n",
    "    def __enter__(self):\n",
    "        print(\"__enter__\")\n",
    "        return \"Send Sample back\"\n",
    "\n",
    "    def __exit__(self, exc_type, exc_val, exc_tb):\n",
    "        print(\"__exit__\")\n",
    "\n",
    "def get_sample():\n",
    "    return Sample()\n",
    "\n",
    "with get_sample() as sample:\n",
    "    print(sample)"
   ]
  },
  {
   "cell_type": "code",
   "execution_count": 6,
   "metadata": {},
   "outputs": [
    {
     "name": "stdout",
     "output_type": "stream",
     "text": [
      "[1, 2, 3, 4]\n",
      "Resource Released!\n"
     ]
    }
   ],
   "source": [
    "from contextlib import contextmanager\n",
    "\n",
    "@contextmanager\n",
    "def get_sample():\n",
    "    resource = [1, 2, 3, 4]\n",
    "    try:\n",
    "        yield resource\n",
    "    finally:\n",
    "        del resource\n",
    "        print(\"Resource Released!\")\n",
    "        \n",
    "\n",
    "with get_sample() as sample:\n",
    "    print(sample)\n"
   ]
  }
 ],
 "metadata": {
  "kernelspec": {
   "display_name": "swint",
   "language": "python",
   "name": "python3"
  },
  "language_info": {
   "codemirror_mode": {
    "name": "ipython",
    "version": 3
   },
   "file_extension": ".py",
   "mimetype": "text/x-python",
   "name": "python",
   "nbconvert_exporter": "python",
   "pygments_lexer": "ipython3",
   "version": "3.8.15"
  },
  "orig_nbformat": 4,
  "vscode": {
   "interpreter": {
    "hash": "af1ef7c2422b98f0aa0eb8c8ba68e52bc5e98ee3d10707544ebeb5411de3d7d9"
   }
  }
 },
 "nbformat": 4,
 "nbformat_minor": 2
}
